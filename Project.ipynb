{
  "nbformat": 4,
  "nbformat_minor": 0,
  "metadata": {
    "colab": {
      "name": "Project.ipynb",
      "provenance": [],
      "collapsed_sections": [
        "KpH8zj3as_oO",
        "5hdHWAQUCvzO",
        "kLRrwhY9Skb1"
      ],
      "authorship_tag": "ABX9TyOGRmc/vokjQvwtpQa4go3f",
      "include_colab_link": true
    },
    "kernelspec": {
      "name": "python3",
      "display_name": "Python 3"
    },
    "language_info": {
      "name": "python"
    }
  },
  "cells": [
    {
      "cell_type": "markdown",
      "metadata": {
        "id": "view-in-github",
        "colab_type": "text"
      },
      "source": [
        "<a href=\"https://colab.research.google.com/github/dabardonov/hse22_project/blob/main/Project.ipynb\" target=\"_parent\"><img src=\"https://colab.research.google.com/assets/colab-badge.svg\" alt=\"Open In Colab\"/></a>"
      ]
    },
    {
      "cell_type": "markdown",
      "source": [
        "# Данные"
      ],
      "metadata": {
        "id": "Jy03Jx4Ws6n6"
      }
    },
    {
      "cell_type": "markdown",
      "source": [
        "## Leucobacter coleopterorum"
      ],
      "metadata": {
        "id": "KpH8zj3as_oO"
      }
    },
    {
      "cell_type": "code",
      "execution_count": null,
      "metadata": {
        "colab": {
          "base_uri": "https://localhost:8080/"
        },
        "id": "EKIdXucWva68",
        "outputId": "9aea830f-51f2-49d5-e779-588bfae3e088"
      },
      "outputs": [
        {
          "output_type": "stream",
          "name": "stdout",
          "text": [
            "--2022-06-13 11:41:31--  ftp://ftp.ncbi.nlm.nih.gov/genomes/all/GCF/011/382/985/GCF_011382985.1_ASM1138298v1/GCF_011382985.1_ASM1138298v1_genomic.fna.gz\n",
            "           => ‘GCF_011382985.1_ASM1138298v1_genomic.fna.gz’\n",
            "Resolving ftp.ncbi.nlm.nih.gov (ftp.ncbi.nlm.nih.gov)... 165.112.9.230, 130.14.250.7, 2607:f220:41e:250::10, ...\n",
            "Connecting to ftp.ncbi.nlm.nih.gov (ftp.ncbi.nlm.nih.gov)|165.112.9.230|:21... connected.\n",
            "Logging in as anonymous ... Logged in!\n",
            "==> SYST ... done.    ==> PWD ... done.\n",
            "==> TYPE I ... done.  ==> CWD (1) /genomes/all/GCF/011/382/985/GCF_011382985.1_ASM1138298v1 ... done.\n",
            "==> SIZE GCF_011382985.1_ASM1138298v1_genomic.fna.gz ... 951642\n",
            "==> PASV ... done.    ==> RETR GCF_011382985.1_ASM1138298v1_genomic.fna.gz ... done.\n",
            "Length: 951642 (929K) (unauthoritative)\n",
            "\n",
            "GCF_011382985.1_ASM 100%[===================>] 929.34K  2.09MB/s    in 0.4s    \n",
            "\n",
            "2022-06-13 11:41:32 (2.09 MB/s) - ‘GCF_011382985.1_ASM1138298v1_genomic.fna.gz’ saved [951642]\n",
            "\n"
          ]
        }
      ],
      "source": [
        "!wget ftp://ftp.ncbi.nlm.nih.gov/genomes/all/GCF/011/382/985/GCF_011382985.1_ASM1138298v1/GCF_011382985.1_ASM1138298v1_genomic.fna.gz"
      ]
    },
    {
      "cell_type": "code",
      "source": [
        "!wget ftp://ftp.ncbi.nlm.nih.gov/genomes/all/GCF/011/382/985/GCF_011382985.1_ASM1138298v1/GCF_011382985.1_ASM1138298v1_feature_table.txt.gz"
      ],
      "metadata": {
        "colab": {
          "base_uri": "https://localhost:8080/"
        },
        "id": "xV4RlW11wIqr",
        "outputId": "e5ccec9b-0d98-471a-ab00-2b62ec4ace09"
      },
      "execution_count": null,
      "outputs": [
        {
          "output_type": "stream",
          "name": "stdout",
          "text": [
            "--2022-06-13 11:41:33--  ftp://ftp.ncbi.nlm.nih.gov/genomes/all/GCF/011/382/985/GCF_011382985.1_ASM1138298v1/GCF_011382985.1_ASM1138298v1_feature_table.txt.gz\n",
            "           => ‘GCF_011382985.1_ASM1138298v1_feature_table.txt.gz’\n",
            "Resolving ftp.ncbi.nlm.nih.gov (ftp.ncbi.nlm.nih.gov)... 165.112.9.230, 130.14.250.7, 2607:f220:41e:250::10, ...\n",
            "Connecting to ftp.ncbi.nlm.nih.gov (ftp.ncbi.nlm.nih.gov)|165.112.9.230|:21... connected.\n",
            "^C\n"
          ]
        }
      ]
    },
    {
      "cell_type": "code",
      "source": [
        "!wget ftp://ftp.ncbi.nlm.nih.gov/genomes/all/GCF/011/382/985/GCF_011382985.1_ASM1138298v1/GCF_011382985.1_ASM1138298v1_genomic.gtf.gz"
      ],
      "metadata": {
        "colab": {
          "base_uri": "https://localhost:8080/"
        },
        "id": "KvKgYFlWvrPr",
        "outputId": "aa58f8cf-baa2-4719-a26e-6e2442f9cd47"
      },
      "execution_count": null,
      "outputs": [
        {
          "output_type": "stream",
          "name": "stdout",
          "text": [
            "--2022-06-13 11:41:33--  ftp://ftp.ncbi.nlm.nih.gov/genomes/all/GCF/011/382/985/GCF_011382985.1_ASM1138298v1/GCF_011382985.1_ASM1138298v1_genomic.gtf.gz\n",
            "           => ‘GCF_011382985.1_ASM1138298v1_genomic.gtf.gz’\n",
            "Resolving ftp.ncbi.nlm.nih.gov (ftp.ncbi.nlm.nih.gov)... 165.112.9.230, 130.14.250.7, 2607:f220:41e:250::10, ...\n",
            "Connecting to ftp.ncbi.nlm.nih.gov (ftp.ncbi.nlm.nih.gov)|165.112.9.230|:21... connected.\n",
            "Logging in as anonymous ... Logged in!\n",
            "==> SYST ... done.    ==> PWD ... done.\n",
            "==> TYPE I ... done.  ==> CWD (1) /genomes/all/GCF/011/382/985/GCF_011382985.1_ASM1138298v1 ... done.\n",
            "==> SIZE GCF_011382985.1_ASM1138298v1_genomic.gtf.gz ... 282592\n",
            "==> PASV ... done.    ==> RETR GCF_011382985.1_ASM1138298v1_genomic.gtf.gz ... done.\n",
            "Length: 282592 (276K) (unauthoritative)\n",
            "\n",
            "GCF_011382985.1_ASM 100%[===================>] 275.97K   863KB/s    in 0.3s    \n",
            "\n",
            "2022-06-13 11:41:34 (863 KB/s) - ‘GCF_011382985.1_ASM1138298v1_genomic.gtf.gz’ saved [282592]\n",
            "\n"
          ]
        }
      ]
    },
    {
      "cell_type": "code",
      "source": [
        "!wget ftp://ftp.ncbi.nlm.nih.gov/genomes/all/GCF/011/382/985/GCF_011382985.1_ASM1138298v1/GCF_011382985.1_ASM1138298v1_genomic.gbff.gz"
      ],
      "metadata": {
        "colab": {
          "base_uri": "https://localhost:8080/"
        },
        "id": "M0RTslwFvrMs",
        "outputId": "2dcc7ccc-1b92-454d-9a3c-6693b6df5aa8"
      },
      "execution_count": null,
      "outputs": [
        {
          "output_type": "stream",
          "name": "stdout",
          "text": [
            "--2022-06-13 11:41:34--  ftp://ftp.ncbi.nlm.nih.gov/genomes/all/GCF/011/382/985/GCF_011382985.1_ASM1138298v1/GCF_011382985.1_ASM1138298v1_genomic.gbff.gz\n",
            "           => ‘GCF_011382985.1_ASM1138298v1_genomic.gbff.gz’\n",
            "Resolving ftp.ncbi.nlm.nih.gov (ftp.ncbi.nlm.nih.gov)... 165.112.9.230, 130.14.250.7, 2607:f220:41e:250::10, ...\n",
            "Connecting to ftp.ncbi.nlm.nih.gov (ftp.ncbi.nlm.nih.gov)|165.112.9.230|:21... connected.\n",
            "Logging in as anonymous ... Logged in!\n",
            "==> SYST ... done.    ==> PWD ... done.\n",
            "==> TYPE I ... done.  ==> CWD (1) /genomes/all/GCF/011/382/985/GCF_011382985.1_ASM1138298v1 ... done.\n",
            "==> SIZE GCF_011382985.1_ASM1138298v1_genomic.gbff.gz ... 2189242\n",
            "==> PASV ... done.    ==> RETR GCF_011382985.1_ASM1138298v1_genomic.gbff.gz ... done.\n",
            "Length: 2189242 (2.1M) (unauthoritative)\n",
            "\n",
            "GCF_011382985.1_ASM 100%[===================>]   2.09M  3.45MB/s    in 0.6s    \n",
            "\n",
            "2022-06-13 11:41:36 (3.45 MB/s) - ‘GCF_011382985.1_ASM1138298v1_genomic.gbff.gz’ saved [2189242]\n",
            "\n"
          ]
        }
      ]
    },
    {
      "cell_type": "markdown",
      "source": [
        "## Leucobacter denitrificans"
      ],
      "metadata": {
        "id": "HdjqorXgtvNj"
      }
    },
    {
      "cell_type": "code",
      "source": [
        "!wget ftp://ftp.ncbi.nlm.nih.gov/genomes/all/GCF/014/396/385/GCF_014396385.1_ASM1439638v1/GCF_014396385.1_ASM1439638v1_genomic.fna.gz"
      ],
      "metadata": {
        "colab": {
          "base_uri": "https://localhost:8080/"
        },
        "id": "h27CoyKctu5_",
        "outputId": "45c901db-0ba8-4340-c315-389b557b6d0f"
      },
      "execution_count": null,
      "outputs": [
        {
          "output_type": "stream",
          "name": "stdout",
          "text": [
            "--2022-06-13 11:41:36--  ftp://ftp.ncbi.nlm.nih.gov/genomes/all/GCF/014/396/385/GCF_014396385.1_ASM1439638v1/GCF_014396385.1_ASM1439638v1_genomic.fna.gz\n",
            "           => ‘GCF_014396385.1_ASM1439638v1_genomic.fna.gz’\n",
            "Resolving ftp.ncbi.nlm.nih.gov (ftp.ncbi.nlm.nih.gov)... 165.112.9.230, 130.14.250.7, 2607:f220:41e:250::10, ...\n",
            "Connecting to ftp.ncbi.nlm.nih.gov (ftp.ncbi.nlm.nih.gov)|165.112.9.230|:21... connected.\n",
            "Logging in as anonymous ... Logged in!\n",
            "==> SYST ... done.    ==> PWD ... done.\n",
            "==> TYPE I ... done.  ==> CWD (1) /genomes/all/GCF/014/396/385/GCF_014396385.1_ASM1439638v1 ... done.\n",
            "==> SIZE GCF_014396385.1_ASM1439638v1_genomic.fna.gz ... 710135\n",
            "==> PASV ... done.    ==> RETR GCF_014396385.1_ASM1439638v1_genomic.fna.gz ... done.\n",
            "Length: 710135 (693K) (unauthoritative)\n",
            "\n",
            "GCF_014396385.1_ASM 100%[===================>] 693.49K  1.66MB/s    in 0.4s    \n",
            "\n",
            "2022-06-13 11:41:38 (1.66 MB/s) - ‘GCF_014396385.1_ASM1439638v1_genomic.fna.gz’ saved [710135]\n",
            "\n"
          ]
        }
      ]
    },
    {
      "cell_type": "code",
      "source": [
        "!wget ftp://ftp.ncbi.nlm.nih.gov/genomes/all/GCF/014/396/385/GCF_014396385.1_ASM1439638v1/GCF_014396385.1_ASM1439638v1_genomic.gtf.gz"
      ],
      "metadata": {
        "colab": {
          "base_uri": "https://localhost:8080/"
        },
        "id": "BFq-cW5DvrKE",
        "outputId": "e329d3e1-c841-4fca-9a8c-c70a0a5514e8"
      },
      "execution_count": null,
      "outputs": [
        {
          "output_type": "stream",
          "name": "stdout",
          "text": [
            "--2022-06-13 11:41:38--  ftp://ftp.ncbi.nlm.nih.gov/genomes/all/GCF/014/396/385/GCF_014396385.1_ASM1439638v1/GCF_014396385.1_ASM1439638v1_genomic.gtf.gz\n",
            "           => ‘GCF_014396385.1_ASM1439638v1_genomic.gtf.gz’\n",
            "Resolving ftp.ncbi.nlm.nih.gov (ftp.ncbi.nlm.nih.gov)... 165.112.9.230, 130.14.250.7, 2607:f220:41e:250::10, ...\n",
            "Connecting to ftp.ncbi.nlm.nih.gov (ftp.ncbi.nlm.nih.gov)|165.112.9.230|:21... connected.\n",
            "Logging in as anonymous ... Logged in!\n",
            "==> SYST ... done.    ==> PWD ... done.\n",
            "==> TYPE I ... done.  ==> CWD (1) /genomes/all/GCF/014/396/385/GCF_014396385.1_ASM1439638v1 ... done.\n",
            "==> SIZE GCF_014396385.1_ASM1439638v1_genomic.gtf.gz ... 221012\n",
            "==> PASV ... done.    ==> RETR GCF_014396385.1_ASM1439638v1_genomic.gtf.gz ... done.\n",
            "Length: 221012 (216K) (unauthoritative)\n",
            "\n",
            "GCF_014396385.1_ASM 100%[===================>] 215.83K   745KB/s    in 0.3s    \n",
            "\n",
            "2022-06-13 11:41:39 (745 KB/s) - ‘GCF_014396385.1_ASM1439638v1_genomic.gtf.gz’ saved [221012]\n",
            "\n"
          ]
        }
      ]
    },
    {
      "cell_type": "code",
      "source": [
        "!wget ftp://ftp.ncbi.nlm.nih.gov/genomes/all/GCF/014/396/385/GCF_014396385.1_ASM1439638v1/GCF_014396385.1_ASM1439638v1_genomic.gbff.gz"
      ],
      "metadata": {
        "colab": {
          "base_uri": "https://localhost:8080/"
        },
        "id": "UF8CK5j9vrEV",
        "outputId": "76a47431-17bb-49df-8f0c-6aaa91205733"
      },
      "execution_count": null,
      "outputs": [
        {
          "output_type": "stream",
          "name": "stdout",
          "text": [
            "--2022-06-13 11:41:39--  ftp://ftp.ncbi.nlm.nih.gov/genomes/all/GCF/014/396/385/GCF_014396385.1_ASM1439638v1/GCF_014396385.1_ASM1439638v1_genomic.gbff.gz\n",
            "           => ‘GCF_014396385.1_ASM1439638v1_genomic.gbff.gz’\n",
            "Resolving ftp.ncbi.nlm.nih.gov (ftp.ncbi.nlm.nih.gov)... 165.112.9.230, 130.14.250.7, 2607:f220:41e:250::10, ...\n",
            "Connecting to ftp.ncbi.nlm.nih.gov (ftp.ncbi.nlm.nih.gov)|165.112.9.230|:21... connected.\n",
            "Logging in as anonymous ... Logged in!\n",
            "==> SYST ... done.    ==> PWD ... ^C\n"
          ]
        }
      ]
    },
    {
      "cell_type": "code",
      "source": [
        "!wget ftp://ftp.ncbi.nlm.nih.gov/genomes/all/GCF/014/396/385/GCF_014396385.1_ASM1439638v1/GCF_014396385.1_ASM1439638v1_feature_table.txt.gz"
      ],
      "metadata": {
        "colab": {
          "base_uri": "https://localhost:8080/"
        },
        "id": "5Or3BTXlvq8U",
        "outputId": "1b2ff2d7-b6ba-4a5b-bff1-79ec0a000dc0"
      },
      "execution_count": null,
      "outputs": [
        {
          "output_type": "stream",
          "name": "stdout",
          "text": [
            "--2022-06-13 11:41:40--  ftp://ftp.ncbi.nlm.nih.gov/genomes/all/GCF/014/396/385/GCF_014396385.1_ASM1439638v1/GCF_014396385.1_ASM1439638v1_feature_table.txt.gz\n",
            "           => ‘GCF_014396385.1_ASM1439638v1_feature_table.txt.gz’\n",
            "Resolving ftp.ncbi.nlm.nih.gov (ftp.ncbi.nlm.nih.gov)... 165.112.9.230, 130.14.250.7, 2607:f220:41e:250::10, ...\n",
            "Connecting to ftp.ncbi.nlm.nih.gov (ftp.ncbi.nlm.nih.gov)|165.112.9.230|:21... connected.\n",
            "Logging in as anonymous ... Logged in!\n",
            "==> SYST ... done.    ==> PWD ... done.\n",
            "==> TYPE I ... done.  ==> CWD (1) /genomes/all/GCF/014/396/385/GCF_014396385.1_ASM1439638v1 ... done.\n",
            "==> SIZE GCF_014396385.1_ASM1439638v1_feature_table.txt.gz ... 103565\n",
            "==> PASV ... done.    ==> RETR GCF_014396385.1_ASM1439638v1_feature_table.txt.gz ... done.\n",
            "Length: 103565 (101K) (unauthoritative)\n",
            "\n",
            "GCF_014396385.1_ASM 100%[===================>] 101.14K   479KB/s    in 0.2s    \n",
            "\n",
            "2022-06-13 11:41:41 (479 KB/s) - ‘GCF_014396385.1_ASM1439638v1_feature_table.txt.gz’ saved [103565]\n",
            "\n"
          ]
        }
      ]
    },
    {
      "cell_type": "markdown",
      "source": [
        "## Leucobacter insecticola"
      ],
      "metadata": {
        "id": "KmY-SntKufH9"
      }
    },
    {
      "cell_type": "code",
      "source": [
        "!wget ftp://ftp.ncbi.nlm.nih.gov/genomes/all/GCF/011/382/965/GCF_011382965.1_ASM1138296v1/GCF_011382965.1_ASM1138296v1_genomic.fna.gz"
      ],
      "metadata": {
        "colab": {
          "base_uri": "https://localhost:8080/"
        },
        "id": "7b_0bCmauhJQ",
        "outputId": "8ad645d2-ca50-4989-c004-1362c264d54b"
      },
      "execution_count": null,
      "outputs": [
        {
          "output_type": "stream",
          "name": "stdout",
          "text": [
            "--2022-06-13 11:41:41--  ftp://ftp.ncbi.nlm.nih.gov/genomes/all/GCF/011/382/965/GCF_011382965.1_ASM1138296v1/GCF_011382965.1_ASM1138296v1_genomic.fna.gz\n",
            "           => ‘GCF_011382965.1_ASM1138296v1_genomic.fna.gz’\n",
            "Resolving ftp.ncbi.nlm.nih.gov (ftp.ncbi.nlm.nih.gov)... 165.112.9.230, 130.14.250.7, 2607:f220:41e:250::10, ...\n",
            "Connecting to ftp.ncbi.nlm.nih.gov (ftp.ncbi.nlm.nih.gov)|165.112.9.230|:21... connected.\n",
            "Logging in as anonymous ... Logged in!\n",
            "==> SYST ... done.    ==> PWD ... done.\n",
            "==> TYPE I ... done.  ==> CWD (1) /genomes/all/GCF/011/382/965/GCF_011382965.1_ASM1138296v1 ... done.\n",
            "==> SIZE GCF_011382965.1_ASM1138296v1_genomic.fna.gz ... 855589\n",
            "==> PASV ... done.    ==> RETR GCF_011382965.1_ASM1138296v1_genomic.fna.gz ... done.\n",
            "Length: 855589 (836K) (unauthoritative)\n",
            "\n",
            "GCF_011382965.1_ASM 100%[===================>] 835.54K  1.97MB/s    in 0.4s    \n",
            "\n",
            "2022-06-13 11:41:43 (1.97 MB/s) - ‘GCF_011382965.1_ASM1138296v1_genomic.fna.gz’ saved [855589]\n",
            "\n"
          ]
        }
      ]
    },
    {
      "cell_type": "code",
      "source": [
        "!wget ftp://ftp.ncbi.nlm.nih.gov/genomes/all/GCF/011/382/965/GCF_011382965.1_ASM1138296v1/GCF_011382965.1_ASM1138296v1_genomic.gtf.gz"
      ],
      "metadata": {
        "colab": {
          "base_uri": "https://localhost:8080/"
        },
        "id": "yiuIPITZuhEm",
        "outputId": "ba72393f-1489-4d08-a4ba-e0954d2c68ba"
      },
      "execution_count": null,
      "outputs": [
        {
          "output_type": "stream",
          "name": "stdout",
          "text": [
            "--2022-06-13 11:41:43--  ftp://ftp.ncbi.nlm.nih.gov/genomes/all/GCF/011/382/965/GCF_011382965.1_ASM1138296v1/GCF_011382965.1_ASM1138296v1_genomic.gtf.gz\n",
            "           => ‘GCF_011382965.1_ASM1138296v1_genomic.gtf.gz’\n",
            "Resolving ftp.ncbi.nlm.nih.gov (ftp.ncbi.nlm.nih.gov)... 165.112.9.230, 130.14.250.7, 2607:f220:41e:250::10, ...\n",
            "Connecting to ftp.ncbi.nlm.nih.gov (ftp.ncbi.nlm.nih.gov)|165.112.9.230|:21... connected.\n",
            "Logging in as anonymous ... Logged in!\n",
            "==> SYST ... done.    ==> PWD ... done.\n",
            "==> TYPE I ... done.  ==> CWD (1) /genomes/all/GCF/011/382/965/GCF_011382965.1_ASM1138296v1 ... done.\n",
            "==> SIZE GCF_011382965.1_ASM1138296v1_genomic.gtf.gz ... 256704\n",
            "==> PASV ... done.    ==> RETR GCF_011382965.1_ASM1138296v1_genomic.gtf.gz ... done.\n",
            "Length: 256704 (251K) (unauthoritative)\n",
            "\n",
            "GCF_011382965.1_ASM 100%[===================>] 250.69K   830KB/s    in 0.3s    \n",
            "\n",
            "2022-06-13 11:41:44 (830 KB/s) - ‘GCF_011382965.1_ASM1138296v1_genomic.gtf.gz’ saved [256704]\n",
            "\n"
          ]
        }
      ]
    },
    {
      "cell_type": "code",
      "source": [
        "!wget ftp://ftp.ncbi.nlm.nih.gov/genomes/all/GCF/011/382/965/GCF_011382965.1_ASM1138296v1/GCF_011382965.1_ASM1138296v1_genomic.gbff.gz"
      ],
      "metadata": {
        "colab": {
          "base_uri": "https://localhost:8080/"
        },
        "id": "KH8_Ixn-ug-B",
        "outputId": "5ffc68d7-4a0c-48b1-839d-5100f66c9982"
      },
      "execution_count": null,
      "outputs": [
        {
          "output_type": "stream",
          "name": "stdout",
          "text": [
            "--2022-06-13 11:41:44--  ftp://ftp.ncbi.nlm.nih.gov/genomes/all/GCF/011/382/965/GCF_011382965.1_ASM1138296v1/GCF_011382965.1_ASM1138296v1_genomic.gbff.gz\n",
            "           => ‘GCF_011382965.1_ASM1138296v1_genomic.gbff.gz’\n",
            "Resolving ftp.ncbi.nlm.nih.gov (ftp.ncbi.nlm.nih.gov)... 165.112.9.230, 130.14.250.7, 2607:f220:41e:250::10, ...\n",
            "Connecting to ftp.ncbi.nlm.nih.gov (ftp.ncbi.nlm.nih.gov)|165.112.9.230|:21... connected.\n",
            "Logging in as anonymous ... Logged in!\n",
            "==> SYST ... done.    ==> PWD ... done.\n",
            "==> TYPE I ... done.  ==> CWD (1) /genomes/all/GCF/011/382/965/GCF_011382965.1_ASM1138296v1 ... done.\n",
            "==> SIZE GCF_011382965.1_ASM1138296v1_genomic.gbff.gz ... 2010018\n",
            "==> PASV ... done.    ==> RETR GCF_011382965.1_ASM1138296v1_genomic.gbff.gz ... done.\n",
            "Length: 2010018 (1.9M) (unauthoritative)\n",
            "\n",
            "GCF_011382965.1_ASM 100%[===================>]   1.92M  3.86MB/s    in 0.5s    \n",
            "\n",
            "2022-06-13 11:41:46 (3.86 MB/s) - ‘GCF_011382965.1_ASM1138296v1_genomic.gbff.gz’ saved [2010018]\n",
            "\n"
          ]
        }
      ]
    },
    {
      "cell_type": "code",
      "source": [
        "!wget ftp://ftp.ncbi.nlm.nih.gov/genomes/all/GCF/011/382/965/GCF_011382965.1_ASM1138296v1/GCF_011382965.1_ASM1138296v1_feature_table.txt.gz"
      ],
      "metadata": {
        "colab": {
          "base_uri": "https://localhost:8080/"
        },
        "id": "Ygl-h0EUug18",
        "outputId": "c90a15ca-830a-42b0-ec77-7739f0183670"
      },
      "execution_count": null,
      "outputs": [
        {
          "output_type": "stream",
          "name": "stdout",
          "text": [
            "--2022-06-13 11:41:46--  ftp://ftp.ncbi.nlm.nih.gov/genomes/all/GCF/011/382/965/GCF_011382965.1_ASM1138296v1/GCF_011382965.1_ASM1138296v1_feature_table.txt.gz\n",
            "           => ‘GCF_011382965.1_ASM1138296v1_feature_table.txt.gz’\n",
            "Resolving ftp.ncbi.nlm.nih.gov (ftp.ncbi.nlm.nih.gov)... 165.112.9.230, 130.14.250.7, 2607:f220:41e:250::10, ...\n",
            "Connecting to ftp.ncbi.nlm.nih.gov (ftp.ncbi.nlm.nih.gov)|165.112.9.230|:21... connected.\n",
            "Logging in as anonymous ... Logged in!\n",
            "==> SYST ... done.    ==> PWD ... done.\n",
            "==> TYPE I ... done.  ==> CWD (1) /genomes/all/GCF/011/382/965/GCF_011382965.1_ASM1138296v1 ... done.\n",
            "==> SIZE GCF_011382965.1_ASM1138296v1_feature_table.txt.gz ... 121308\n",
            "==> PASV ... done.    ==> RETR GCF_011382965.1_ASM1138296v1_feature_table.txt.gz ... done.\n",
            "Length: 121308 (118K) (unauthoritative)\n",
            "\n",
            "GCF_011382965.1_ASM 100%[===================>] 118.46K   468KB/s    in 0.3s    \n",
            "\n",
            "2022-06-13 11:41:47 (468 KB/s) - ‘GCF_011382965.1_ASM1138296v1_feature_table.txt.gz’ saved [121308]\n",
            "\n"
          ]
        }
      ]
    },
    {
      "cell_type": "markdown",
      "source": [
        "## Leucobacter muris"
      ],
      "metadata": {
        "id": "06s5PsHDu2Wq"
      }
    },
    {
      "cell_type": "code",
      "source": [
        "!wget ftp://ftp.ncbi.nlm.nih.gov/genomes/all/GCF/004/028/235/GCF_004028235.1_ASM402823v1/GCF_004028235.1_ASM402823v1_genomic.fna.gz"
      ],
      "metadata": {
        "colab": {
          "base_uri": "https://localhost:8080/"
        },
        "id": "RvfjFmsyvNrY",
        "outputId": "f75a7029-5f42-4f07-ef4f-9c540bdf2329"
      },
      "execution_count": null,
      "outputs": [
        {
          "output_type": "stream",
          "name": "stdout",
          "text": [
            "--2022-06-13 11:41:47--  ftp://ftp.ncbi.nlm.nih.gov/genomes/all/GCF/004/028/235/GCF_004028235.1_ASM402823v1/GCF_004028235.1_ASM402823v1_genomic.fna.gz\n",
            "           => ‘GCF_004028235.1_ASM402823v1_genomic.fna.gz’\n",
            "Resolving ftp.ncbi.nlm.nih.gov (ftp.ncbi.nlm.nih.gov)... 165.112.9.230, 130.14.250.7, 2607:f220:41e:250::10, ...\n",
            "Connecting to ftp.ncbi.nlm.nih.gov (ftp.ncbi.nlm.nih.gov)|165.112.9.230|:21... connected.\n",
            "Logging in as anonymous ... Logged in!\n",
            "==> SYST ... done.    ==> PWD ... done.\n",
            "==> TYPE I ... done.  ==> CWD (1) /genomes/all/GCF/004/028/235/GCF_004028235.1_ASM402823v1 ... done.\n",
            "==> SIZE GCF_004028235.1_ASM402823v1_genomic.fna.gz ... 892985\n",
            "==> PASV ... done.    ==> RETR GCF_004028235.1_ASM402823v1_genomic.fna.gz ... done.\n",
            "Length: 892985 (872K) (unauthoritative)\n",
            "\n",
            "GCF_004028235.1_ASM 100%[===================>] 872.06K  2.11MB/s    in 0.4s    \n",
            "\n",
            "2022-06-13 11:41:49 (2.11 MB/s) - ‘GCF_004028235.1_ASM402823v1_genomic.fna.gz’ saved [892985]\n",
            "\n"
          ]
        }
      ]
    },
    {
      "cell_type": "code",
      "source": [
        "!wget ftp://ftp.ncbi.nlm.nih.gov/genomes/all/GCF/004/028/235/GCF_004028235.1_ASM402823v1/GCF_004028235.1_ASM402823v1_genomic.gtf.gz"
      ],
      "metadata": {
        "colab": {
          "base_uri": "https://localhost:8080/"
        },
        "id": "ju9DIEaWvNn-",
        "outputId": "2e441388-1547-4235-aa24-0bed2fd640e0"
      },
      "execution_count": null,
      "outputs": [
        {
          "output_type": "stream",
          "name": "stdout",
          "text": [
            "--2022-06-13 11:41:49--  ftp://ftp.ncbi.nlm.nih.gov/genomes/all/GCF/004/028/235/GCF_004028235.1_ASM402823v1/GCF_004028235.1_ASM402823v1_genomic.gtf.gz\n",
            "           => ‘GCF_004028235.1_ASM402823v1_genomic.gtf.gz’\n",
            "Resolving ftp.ncbi.nlm.nih.gov (ftp.ncbi.nlm.nih.gov)... 165.112.9.230, 130.14.250.7, 2607:f220:41e:250::10, ...\n",
            "Connecting to ftp.ncbi.nlm.nih.gov (ftp.ncbi.nlm.nih.gov)|165.112.9.230|:21... connected.\n",
            "Logging in as anonymous ... Logged in!\n",
            "==> SYST ... done.    ==> PWD ... done.\n",
            "==> TYPE I ... done.  ==> CWD (1) /genomes/all/GCF/004/028/235/GCF_004028235.1_ASM402823v1 ... done.\n",
            "==> SIZE GCF_004028235.1_ASM402823v1_genomic.gtf.gz ... 239733\n",
            "==> PASV ... done.    ==> RETR GCF_004028235.1_ASM402823v1_genomic.gtf.gz ... done.\n",
            "Length: 239733 (234K) (unauthoritative)\n",
            "\n",
            "GCF_004028235.1_ASM 100%[===================>] 234.11K   825KB/s    in 0.3s    \n",
            "\n",
            "2022-06-13 11:41:50 (825 KB/s) - ‘GCF_004028235.1_ASM402823v1_genomic.gtf.gz’ saved [239733]\n",
            "\n"
          ]
        }
      ]
    },
    {
      "cell_type": "code",
      "source": [
        "!wget ftp://ftp.ncbi.nlm.nih.gov/genomes/all/GCF/004/028/235/GCF_004028235.1_ASM402823v1/GCF_004028235.1_ASM402823v1_genomic.gbff.gz"
      ],
      "metadata": {
        "colab": {
          "base_uri": "https://localhost:8080/"
        },
        "id": "j9NbsYrDvNhs",
        "outputId": "961230f8-7964-406e-f2a9-9c423eb0ea06"
      },
      "execution_count": null,
      "outputs": [
        {
          "output_type": "stream",
          "name": "stdout",
          "text": [
            "--2022-06-13 11:41:50--  ftp://ftp.ncbi.nlm.nih.gov/genomes/all/GCF/004/028/235/GCF_004028235.1_ASM402823v1/GCF_004028235.1_ASM402823v1_genomic.gbff.gz\n",
            "           => ‘GCF_004028235.1_ASM402823v1_genomic.gbff.gz’\n",
            "Resolving ftp.ncbi.nlm.nih.gov (ftp.ncbi.nlm.nih.gov)... 165.112.9.230, 130.14.250.7, 2607:f220:41e:250::10, ...\n",
            "Connecting to ftp.ncbi.nlm.nih.gov (ftp.ncbi.nlm.nih.gov)|165.112.9.230|:21... connected.\n",
            "Logging in as anonymous ... Logged in!\n",
            "==> SYST ... done.    ==> PWD ... done.\n",
            "==> TYPE I ... done.  ==> CWD (1) /genomes/all/GCF/004/028/235/GCF_004028235.1_ASM402823v1 ... done.\n",
            "==> SIZE GCF_004028235.1_ASM402823v1_genomic.gbff.gz ... 2193533\n",
            "==> PASV ... done.    ==> RETR GCF_004028235.1_ASM402823v1_genomic.gbff.gz ... done.\n",
            "Length: 2193533 (2.1M) (unauthoritative)\n",
            "\n",
            "GCF_004028235.1_ASM 100%[===================>]   2.09M  4.06MB/s    in 0.5s    \n",
            "\n",
            "2022-06-13 11:41:52 (4.06 MB/s) - ‘GCF_004028235.1_ASM402823v1_genomic.gbff.gz’ saved [2193533]\n",
            "\n"
          ]
        }
      ]
    },
    {
      "cell_type": "code",
      "source": [
        "!wget ftp://ftp.ncbi.nlm.nih.gov/genomes/all/GCF/004/028/235/GCF_004028235.1_ASM402823v1/GCF_004028235.1_ASM402823v1_feature_table.txt.gz"
      ],
      "metadata": {
        "colab": {
          "base_uri": "https://localhost:8080/"
        },
        "id": "BCTK-U_FvNaH",
        "outputId": "995be932-17d2-4530-a1ee-901d16e73eb0"
      },
      "execution_count": null,
      "outputs": [
        {
          "output_type": "stream",
          "name": "stdout",
          "text": [
            "--2022-06-13 11:41:52--  ftp://ftp.ncbi.nlm.nih.gov/genomes/all/GCF/004/028/235/GCF_004028235.1_ASM402823v1/GCF_004028235.1_ASM402823v1_feature_table.txt.gz\n",
            "           => ‘GCF_004028235.1_ASM402823v1_feature_table.txt.gz’\n",
            "Resolving ftp.ncbi.nlm.nih.gov (ftp.ncbi.nlm.nih.gov)... 165.112.9.230, 130.14.250.7, 2607:f220:41e:250::10, ...\n",
            "Connecting to ftp.ncbi.nlm.nih.gov (ftp.ncbi.nlm.nih.gov)|165.112.9.230|:21... connected.\n",
            "Logging in as anonymous ... Logged in!\n",
            "==> SYST ... done.    ==> PWD ... done.\n",
            "==> TYPE I ... done.  ==> CWD (1) /genomes/all/GCF/004/028/235/GCF_004028235.1_ASM402823v1 ... done.\n",
            "==> SIZE GCF_004028235.1_ASM402823v1_feature_table.txt.gz ... 133087\n",
            "==> PASV ... done.    ==> RETR GCF_004028235.1_ASM402823v1_feature_table.txt.gz ... done.\n",
            "Length: 133087 (130K) (unauthoritative)\n",
            "\n",
            "GCF_004028235.1_ASM 100%[===================>] 129.97K   574KB/s    in 0.2s    \n",
            "\n",
            "2022-06-13 11:41:53 (574 KB/s) - ‘GCF_004028235.1_ASM402823v1_feature_table.txt.gz’ saved [133087]\n",
            "\n"
          ]
        }
      ]
    },
    {
      "cell_type": "markdown",
      "source": [
        "## Leucobacter triazinivorans"
      ],
      "metadata": {
        "id": "saSpLJ51vHKF"
      }
    },
    {
      "cell_type": "code",
      "source": [
        "!wget ftp://ftp.ncbi.nlm.nih.gov/genomes/all/GCF/004/208/635/GCF_004208635.1_ASM420863v1/GCF_004208635.1_ASM420863v1_genomic.fna.gz"
      ],
      "metadata": {
        "colab": {
          "base_uri": "https://localhost:8080/"
        },
        "id": "okorOsDlvz3k",
        "outputId": "310b5679-8905-4f91-ecb5-2d2569b6ce6f"
      },
      "execution_count": null,
      "outputs": [
        {
          "output_type": "stream",
          "name": "stdout",
          "text": [
            "--2022-06-13 11:41:53--  ftp://ftp.ncbi.nlm.nih.gov/genomes/all/GCF/004/208/635/GCF_004208635.1_ASM420863v1/GCF_004208635.1_ASM420863v1_genomic.fna.gz\n",
            "           => ‘GCF_004208635.1_ASM420863v1_genomic.fna.gz’\n",
            "Resolving ftp.ncbi.nlm.nih.gov (ftp.ncbi.nlm.nih.gov)... 165.112.9.230, 130.14.250.7, 2607:f220:41e:250::10, ...\n",
            "Connecting to ftp.ncbi.nlm.nih.gov (ftp.ncbi.nlm.nih.gov)|165.112.9.230|:21... connected.\n",
            "Logging in as anonymous ... Logged in!\n",
            "==> SYST ... done.    ==> PWD ... done.\n",
            "==> TYPE I ... done.  ==> CWD (1) /genomes/all/GCF/004/208/635/GCF_004208635.1_ASM420863v1 ... done.\n",
            "==> SIZE GCF_004208635.1_ASM420863v1_genomic.fna.gz ... 980024\n",
            "==> PASV ... done.    ==> RETR GCF_004208635.1_ASM420863v1_genomic.fna.gz ... done.\n",
            "Length: 980024 (957K) (unauthoritative)\n",
            "\n",
            "GCF_004208635.1_ASM 100%[===================>] 957.05K  2.17MB/s    in 0.4s    \n",
            "\n",
            "2022-06-13 11:41:55 (2.17 MB/s) - ‘GCF_004208635.1_ASM420863v1_genomic.fna.gz’ saved [980024]\n",
            "\n"
          ]
        }
      ]
    },
    {
      "cell_type": "code",
      "source": [
        "!wget ftp://ftp.ncbi.nlm.nih.gov/genomes/all/GCF/004/208/635/GCF_004208635.1_ASM420863v1/GCF_004208635.1_ASM420863v1_genomic.gtf.gz"
      ],
      "metadata": {
        "colab": {
          "base_uri": "https://localhost:8080/"
        },
        "id": "az-pf09bvzzS",
        "outputId": "fa61cf80-36da-48b2-cb82-c044e57dd4c9"
      },
      "execution_count": null,
      "outputs": [
        {
          "output_type": "stream",
          "name": "stdout",
          "text": [
            "--2022-06-13 11:41:55--  ftp://ftp.ncbi.nlm.nih.gov/genomes/all/GCF/004/208/635/GCF_004208635.1_ASM420863v1/GCF_004208635.1_ASM420863v1_genomic.gtf.gz\n",
            "           => ‘GCF_004208635.1_ASM420863v1_genomic.gtf.gz’\n",
            "Resolving ftp.ncbi.nlm.nih.gov (ftp.ncbi.nlm.nih.gov)... 165.112.9.230, 130.14.250.7, 2607:f220:41e:250::10, ...\n",
            "Connecting to ftp.ncbi.nlm.nih.gov (ftp.ncbi.nlm.nih.gov)|165.112.9.230|:21... connected.\n",
            "Logging in as anonymous ... Logged in!\n",
            "==> SYST ... done.    ==> PWD ... done.\n",
            "==> TYPE I ... done.  ==> CWD (1) /genomes/all/GCF/004/208/635/GCF_004208635.1_ASM420863v1 ... done.\n",
            "==> SIZE GCF_004208635.1_ASM420863v1_genomic.gtf.gz ... 287306\n",
            "==> PASV ... done.    ==> RETR GCF_004208635.1_ASM420863v1_genomic.gtf.gz ... done.\n",
            "Length: 287306 (281K) (unauthoritative)\n",
            "\n",
            "GCF_004208635.1_ASM 100%[===================>] 280.57K   968KB/s    in 0.3s    \n",
            "\n",
            "2022-06-13 11:41:56 (968 KB/s) - ‘GCF_004208635.1_ASM420863v1_genomic.gtf.gz’ saved [287306]\n",
            "\n"
          ]
        }
      ]
    },
    {
      "cell_type": "code",
      "source": [
        "!wget ftp://ftp.ncbi.nlm.nih.gov/genomes/all/GCF/004/208/635/GCF_004208635.1_ASM420863v1/GCF_004208635.1_ASM420863v1_genomic.gbff.gz"
      ],
      "metadata": {
        "colab": {
          "base_uri": "https://localhost:8080/"
        },
        "id": "eaiDGsDVvzto",
        "outputId": "98c09fc4-e7ed-4ebe-cae2-68f560c7feef"
      },
      "execution_count": null,
      "outputs": [
        {
          "output_type": "stream",
          "name": "stdout",
          "text": [
            "--2022-06-13 11:41:56--  ftp://ftp.ncbi.nlm.nih.gov/genomes/all/GCF/004/208/635/GCF_004208635.1_ASM420863v1/GCF_004208635.1_ASM420863v1_genomic.gbff.gz\n",
            "           => ‘GCF_004208635.1_ASM420863v1_genomic.gbff.gz’\n",
            "Resolving ftp.ncbi.nlm.nih.gov (ftp.ncbi.nlm.nih.gov)... 165.112.9.230, 130.14.250.7, 2607:f220:41e:250::10, ...\n",
            "Connecting to ftp.ncbi.nlm.nih.gov (ftp.ncbi.nlm.nih.gov)|165.112.9.230|:21... connected.\n",
            "Logging in as anonymous ... Logged in!\n",
            "==> SYST ... done.    ==> PWD ... done.\n",
            "==> TYPE I ... done.  ==> CWD (1) /genomes/all/GCF/004/208/635/GCF_004208635.1_ASM420863v1 ... done.\n",
            "==> SIZE GCF_004208635.1_ASM420863v1_genomic.gbff.gz ... 2428648\n",
            "==> PASV ... done.    ==> RETR GCF_004208635.1_ASM420863v1_genomic.gbff.gz ... done.\n",
            "Length: 2428648 (2.3M) (unauthoritative)\n",
            "\n",
            "GCF_004208635.1_ASM 100%[===================>]   2.32M  4.42MB/s    in 0.5s    \n",
            "\n",
            "2022-06-13 11:41:58 (4.42 MB/s) - ‘GCF_004208635.1_ASM420863v1_genomic.gbff.gz’ saved [2428648]\n",
            "\n"
          ]
        }
      ]
    },
    {
      "cell_type": "code",
      "source": [
        "!wget ftp://ftp.ncbi.nlm.nih.gov/genomes/all/GCF/004/208/635/GCF_004208635.1_ASM420863v1/GCF_004208635.1_ASM420863v1_feature_table.txt.gz"
      ],
      "metadata": {
        "colab": {
          "base_uri": "https://localhost:8080/"
        },
        "id": "ETgpVj5Rvzmg",
        "outputId": "860dcbde-2280-4b1b-e429-6133bde51d4d"
      },
      "execution_count": null,
      "outputs": [
        {
          "output_type": "stream",
          "name": "stdout",
          "text": [
            "--2022-06-13 11:41:58--  ftp://ftp.ncbi.nlm.nih.gov/genomes/all/GCF/004/208/635/GCF_004208635.1_ASM420863v1/GCF_004208635.1_ASM420863v1_feature_table.txt.gz\n",
            "           => ‘GCF_004208635.1_ASM420863v1_feature_table.txt.gz’\n",
            "Resolving ftp.ncbi.nlm.nih.gov (ftp.ncbi.nlm.nih.gov)... 165.112.9.230, 130.14.250.7, 2607:f220:41e:250::10, ...\n",
            "Connecting to ftp.ncbi.nlm.nih.gov (ftp.ncbi.nlm.nih.gov)|165.112.9.230|:21... connected.\n",
            "Logging in as anonymous ... Logged in!\n",
            "==> SYST ... done.    ==> PWD ... done.\n",
            "==> TYPE I ... done.  ==> CWD (1) /genomes/all/GCF/004/208/635/GCF_004208635.1_ASM420863v1 ... done.\n",
            "==> SIZE GCF_004208635.1_ASM420863v1_feature_table.txt.gz ... 138208\n",
            "==> PASV ... done.    ==> RETR GCF_004208635.1_ASM420863v1_feature_table.txt.gz ... done.\n",
            "Length: 138208 (135K) (unauthoritative)\n",
            "\n",
            "GCF_004208635.1_ASM 100%[===================>] 134.97K   566KB/s    in 0.2s    \n",
            "\n",
            "2022-06-13 11:41:59 (566 KB/s) - ‘GCF_004208635.1_ASM420863v1_feature_table.txt.gz’ saved [138208]\n",
            "\n"
          ]
        }
      ]
    },
    {
      "cell_type": "markdown",
      "source": [
        "## Распаковка"
      ],
      "metadata": {
        "id": "712i1fAVwTWo"
      }
    },
    {
      "cell_type": "code",
      "source": [
        "!gunzip GCF*"
      ],
      "metadata": {
        "id": "qX8_dKs-wWjw"
      },
      "execution_count": null,
      "outputs": []
    },
    {
      "cell_type": "code",
      "source": [
        "!ls"
      ],
      "metadata": {
        "colab": {
          "base_uri": "https://localhost:8080/"
        },
        "id": "6BhSUjrOxNrE",
        "outputId": "397f1e30-43a4-4650-ba2e-12faa966d03b"
      },
      "execution_count": null,
      "outputs": [
        {
          "output_type": "stream",
          "name": "stdout",
          "text": [
            "GCF_004028235.1_ASM402823v1_feature_table.txt\n",
            "GCF_004028235.1_ASM402823v1_genomic.fna\n",
            "GCF_004028235.1_ASM402823v1_genomic.gbff\n",
            "GCF_004028235.1_ASM402823v1_genomic.gtf\n",
            "GCF_004208635.1_ASM420863v1_feature_table.txt\n",
            "GCF_004208635.1_ASM420863v1_genomic.fna\n",
            "GCF_004208635.1_ASM420863v1_genomic.gbff\n",
            "GCF_004208635.1_ASM420863v1_genomic.gtf\n",
            "GCF_011382965.1_ASM1138296v1_feature_table.txt\n",
            "GCF_011382965.1_ASM1138296v1_genomic.fna\n",
            "GCF_011382965.1_ASM1138296v1_genomic.gbff\n",
            "GCF_011382965.1_ASM1138296v1_genomic.gtf\n",
            "GCF_011382985.1_ASM1138298v1_genomic.fna\n",
            "GCF_011382985.1_ASM1138298v1_genomic.gbff\n",
            "GCF_011382985.1_ASM1138298v1_genomic.gtf\n",
            "GCF_014396385.1_ASM1439638v1_feature_table.txt\n",
            "GCF_014396385.1_ASM1439638v1_genomic.fna\n",
            "GCF_014396385.1_ASM1439638v1_genomic.gtf\n",
            "sample_data\n"
          ]
        }
      ]
    },
    {
      "cell_type": "markdown",
      "source": [
        "# Анализ"
      ],
      "metadata": {
        "id": "B8BuUecHxg8Y"
      }
    },
    {
      "cell_type": "markdown",
      "source": [
        "## Количество генов"
      ],
      "metadata": {
        "id": "HxmhzZne2z2-"
      }
    },
    {
      "cell_type": "markdown",
      "source": [
        "Leucobacter coleopterorum"
      ],
      "metadata": {
        "id": "j3ATmxKM3Rm1"
      }
    },
    {
      "cell_type": "code",
      "source": [
        "!grep -c 'RefSeq\tgene' /content/GCF_011382985.1_ASM1138298v1_genomic.gtf"
      ],
      "metadata": {
        "colab": {
          "base_uri": "https://localhost:8080/"
        },
        "id": "_1iCeiWM216h",
        "outputId": "29d2374d-9fcf-4799-f0ac-659a40073099"
      },
      "execution_count": null,
      "outputs": [
        {
          "output_type": "stream",
          "name": "stdout",
          "text": [
            "3138\n"
          ]
        }
      ]
    },
    {
      "cell_type": "markdown",
      "source": [
        "Leucobacter denitrificans"
      ],
      "metadata": {
        "id": "5yLkyK8c3UOt"
      }
    },
    {
      "cell_type": "code",
      "source": [
        "!grep -c 'RefSeq\tgene' /content/GCF_014396385.1_ASM1439638v1_genomic.gtf"
      ],
      "metadata": {
        "colab": {
          "base_uri": "https://localhost:8080/"
        },
        "id": "PS5nY1HN3W-x",
        "outputId": "62fef387-8c2d-4b82-cda7-6f2440b4b072"
      },
      "execution_count": null,
      "outputs": [
        {
          "output_type": "stream",
          "name": "stdout",
          "text": [
            "2339\n"
          ]
        }
      ]
    },
    {
      "cell_type": "markdown",
      "source": [
        "Leucobacter insecticola"
      ],
      "metadata": {
        "id": "djJGMaoX3f1J"
      }
    },
    {
      "cell_type": "code",
      "source": [
        "!grep -c 'RefSeq\tgene' /content/GCF_011382965.1_ASM1138296v1_genomic.gtf"
      ],
      "metadata": {
        "colab": {
          "base_uri": "https://localhost:8080/"
        },
        "id": "RB7qcLXe3hsc",
        "outputId": "63bbc531-2469-4b59-fd7b-34b86569281c"
      },
      "execution_count": null,
      "outputs": [
        {
          "output_type": "stream",
          "name": "stdout",
          "text": [
            "2787\n"
          ]
        }
      ]
    },
    {
      "cell_type": "markdown",
      "source": [
        "Leucobacter muris"
      ],
      "metadata": {
        "id": "I2l1a6ki3nUe"
      }
    },
    {
      "cell_type": "code",
      "source": [
        "!grep -c 'RefSeq\tgene' /content/GCF_004028235.1_ASM402823v1_genomic.gtf"
      ],
      "metadata": {
        "colab": {
          "base_uri": "https://localhost:8080/"
        },
        "id": "75hl6SuS3m4E",
        "outputId": "a0eddec0-11ad-4967-9c6b-5e54f7e24da6"
      },
      "execution_count": null,
      "outputs": [
        {
          "output_type": "stream",
          "name": "stdout",
          "text": [
            "3036\n"
          ]
        }
      ]
    },
    {
      "cell_type": "markdown",
      "source": [
        "Leucobacter triazinivorans"
      ],
      "metadata": {
        "id": "LT7qW80e3xJ6"
      }
    },
    {
      "cell_type": "code",
      "source": [
        "!grep -c 'RefSeq\tgene' /content/GCF_004208635.1_ASM420863v1_genomic.gtf"
      ],
      "metadata": {
        "colab": {
          "base_uri": "https://localhost:8080/"
        },
        "id": "EdUeD4Px3zcS",
        "outputId": "4c18a92d-7ac6-4b4a-b082-132924881f5d"
      },
      "execution_count": null,
      "outputs": [
        {
          "output_type": "stream",
          "name": "stdout",
          "text": [
            "3142\n"
          ]
        }
      ]
    },
    {
      "cell_type": "markdown",
      "source": [
        "## Длина всех генов"
      ],
      "metadata": {
        "id": "iMJR3sly6rb9"
      }
    },
    {
      "cell_type": "markdown",
      "source": [
        "Leucobacter coleopterorum"
      ],
      "metadata": {
        "id": "4964R_u6768j"
      }
    },
    {
      "cell_type": "code",
      "source": [
        "s = 0\n",
        "with open('/content/GCF_011382985.1_ASM1138298v1_genomic.gtf', mode = 'r') as inf:\n",
        "    for line in inf:\n",
        "          if 'RefSeq\tgene' in line:\n",
        "            stop = int(line.strip().split('\\t')[4])\n",
        "            start = int(line.strip().split('\\t')[3])\n",
        "            s += stop\n",
        "            s -= start\n",
        "print(s)"
      ],
      "metadata": {
        "colab": {
          "base_uri": "https://localhost:8080/"
        },
        "id": "yK1i9YKq82dZ",
        "outputId": "233ce3af-c7f9-4ab4-e67e-e577069b3e08"
      },
      "execution_count": null,
      "outputs": [
        {
          "output_type": "stream",
          "name": "stdout",
          "text": [
            "2872819\n"
          ]
        }
      ]
    },
    {
      "cell_type": "markdown",
      "source": [
        "Leucobacter denitrificans"
      ],
      "metadata": {
        "id": "X0P_qStw9nHl"
      }
    },
    {
      "cell_type": "code",
      "source": [
        "s = 0\n",
        "with open('/content/GCF_014396385.1_ASM1439638v1_genomic.gtf', mode = 'r') as inf:\n",
        "    for line in inf:\n",
        "          if 'RefSeq\tgene' in line:\n",
        "            stop = int(line.strip().split('\\t')[4])\n",
        "            start = int(line.strip().split('\\t')[3])\n",
        "            s += stop\n",
        "            s -= start\n",
        "print(s)"
      ],
      "metadata": {
        "colab": {
          "base_uri": "https://localhost:8080/"
        },
        "id": "G8rEJJik9qFY",
        "outputId": "612e0bcb-b500-44aa-89dd-6e26251173fa"
      },
      "execution_count": null,
      "outputs": [
        {
          "output_type": "stream",
          "name": "stdout",
          "text": [
            "2214101\n"
          ]
        }
      ]
    },
    {
      "cell_type": "markdown",
      "source": [
        "Leucobacter insecticola"
      ],
      "metadata": {
        "id": "i-KtD19G9-Mt"
      }
    },
    {
      "cell_type": "code",
      "source": [
        "s = 0\n",
        "with open('/content/GCF_011382965.1_ASM1138296v1_genomic.gtf', mode = 'r') as inf:\n",
        "    for line in inf:\n",
        "          if 'RefSeq\tgene' in line:\n",
        "            stop = int(line.strip().split('\\t')[4])\n",
        "            start = int(line.strip().split('\\t')[3])\n",
        "            s += stop\n",
        "            s -= start\n",
        "print(s)"
      ],
      "metadata": {
        "colab": {
          "base_uri": "https://localhost:8080/"
        },
        "id": "t3at1CH5-BCl",
        "outputId": "d59eb361-409c-47e2-d919-c7b9d865ed10"
      },
      "execution_count": null,
      "outputs": [
        {
          "output_type": "stream",
          "name": "stdout",
          "text": [
            "2590638\n"
          ]
        }
      ]
    },
    {
      "cell_type": "markdown",
      "source": [
        "Leucobacter muris"
      ],
      "metadata": {
        "id": "UzhNGfHk-QFY"
      }
    },
    {
      "cell_type": "code",
      "source": [
        "s = 0\n",
        "with open('/content/GCF_004028235.1_ASM402823v1_genomic.gtf', mode = 'r') as inf:\n",
        "    for line in inf:\n",
        "          if 'RefSeq\tgene' in line:\n",
        "            stop = int(line.strip().split('\\t')[4])\n",
        "            start = int(line.strip().split('\\t')[3])\n",
        "            s += stop\n",
        "            s -= start\n",
        "print(s)"
      ],
      "metadata": {
        "colab": {
          "base_uri": "https://localhost:8080/"
        },
        "id": "zYtJeAER-QiU",
        "outputId": "6cbc231b-5a91-4000-e75a-1efb4662e7f2"
      },
      "execution_count": null,
      "outputs": [
        {
          "output_type": "stream",
          "name": "stdout",
          "text": [
            "2900455\n"
          ]
        }
      ]
    },
    {
      "cell_type": "markdown",
      "source": [
        "Leucobacter triazinivorans"
      ],
      "metadata": {
        "id": "BgJZeEE3-esW"
      }
    },
    {
      "cell_type": "code",
      "source": [
        "s = 0\n",
        "with open('/content/GCF_004208635.1_ASM420863v1_genomic.gtf', mode = 'r') as inf:\n",
        "    for line in inf:\n",
        "          if 'RefSeq\tgene' in line:\n",
        "            stop = int(line.strip().split('\\t')[4])\n",
        "            start = int(line.strip().split('\\t')[3])\n",
        "            s += stop\n",
        "            s -= start\n",
        "print(s)"
      ],
      "metadata": {
        "colab": {
          "base_uri": "https://localhost:8080/"
        },
        "id": "I14Yhhxo-fhJ",
        "outputId": "00642795-d343-417e-fc5a-0e8cce0c7b9e"
      },
      "execution_count": null,
      "outputs": [
        {
          "output_type": "stream",
          "name": "stdout",
          "text": [
            "3134524\n"
          ]
        }
      ]
    },
    {
      "cell_type": "markdown",
      "source": [
        "## Координаты генов"
      ],
      "metadata": {
        "id": "nGjDF0PhAh6g"
      }
    },
    {
      "cell_type": "markdown",
      "source": [
        "Leucobacter coleopterorum"
      ],
      "metadata": {
        "id": "2qHZI5s1ApFO"
      }
    },
    {
      "cell_type": "code",
      "source": [
        "L298_genes = []\n",
        "with open('/content/GCF_011382985.1_ASM1138298v1_genomic.gtf', mode = 'r') as inf:\n",
        "    for line in inf:\n",
        "          if 'RefSeq\tgene' in line:\n",
        "            stop = int(line.strip().split('\\t')[4])\n",
        "            start = int(line.strip().split('\\t')[3])\n",
        "            id = ((line.strip().split('gene_id')[1]).split(';')[0]).replace('\\\"', '').replace(' ', '')\n",
        "            L298_genes.append([start, stop])"
      ],
      "metadata": {
        "id": "cHQQ8F_cAr5v"
      },
      "execution_count": null,
      "outputs": []
    },
    {
      "cell_type": "code",
      "source": [
        "L298_genes"
      ],
      "metadata": {
        "colab": {
          "base_uri": "https://localhost:8080/"
        },
        "id": "gyOtPbyoBWs5",
        "outputId": "424c9ed1-8ede-47ae-a4b8-005191904745"
      },
      "execution_count": null,
      "outputs": [
        {
          "output_type": "execute_result",
          "data": {
            "text/plain": [
              "[[1318, 1653],\n",
              " [1650, 1979],\n",
              " [2062, 2676],\n",
              " [2688, 4808],\n",
              " [4805, 6481],\n",
              " [6728, 7450],\n",
              " [7541, 8737],\n",
              " [8740, 9093],\n",
              " [9299, 9952],\n",
              " [10308, 11390],\n",
              " [11544, 11626],\n",
              " [11879, 12724],\n",
              " [12721, 13329],\n",
              " [13332, 14582],\n",
              " [14575, 15975],\n",
              " [16005, 17459],\n",
              " [17456, 19216],\n",
              " [19271, 21001],\n",
              " [20998, 21637],\n",
              " [21634, 21792],\n",
              " [21792, 22580],\n",
              " [22639, 22914],\n",
              " [23042, 23977],\n",
              " [23983, 24492],\n",
              " [24651, 25154],\n",
              " [25201, 25665],\n",
              " [25692, 26726],\n",
              " [26748, 27530],\n",
              " [27643, 28283],\n",
              " [28271, 29554],\n",
              " [29623, 31371],\n",
              " [31534, 31606],\n",
              " [31696, 32357],\n",
              " [32369, 32880],\n",
              " [32905, 32981],\n",
              " [33057, 33464],\n",
              " [33457, 35998],\n",
              " [36015, 38009],\n",
              " [38254, 38559],\n",
              " [38741, 39919],\n",
              " [39928, 41070],\n",
              " [41455, 42822],\n",
              " [43222, 43359],\n",
              " [43446, 43727],\n",
              " [43780, 44031],\n",
              " [44036, 44988],\n",
              " [44991, 45494],\n",
              " [45589, 46221],\n",
              " [46214, 47129],\n",
              " [47132, 48132],\n",
              " [48199, 48654],\n",
              " [48950, 49273],\n",
              " [49300, 50252],\n",
              " [50327, 52550],\n",
              " [52603, 54038],\n",
              " [54038, 54835],\n",
              " [54978, 55340],\n",
              " [55344, 55886],\n",
              " [55940, 56200],\n",
              " [56214, 56663],\n",
              " [57668, 59044],\n",
              " [59151, 59735],\n",
              " [59768, 60058],\n",
              " [60105, 61441],\n",
              " [61761, 67748],\n",
              " [68218, 68421],\n",
              " [68323, 69273],\n",
              " [69282, 70255],\n",
              " [70248, 71219],\n",
              " [71258, 72016],\n",
              " [72051, 73352],\n",
              " [73540, 74651],\n",
              " [74641, 76203],\n",
              " [76243, 76962],\n",
              " [77088, 78169],\n",
              " [78217, 79230],\n",
              " [79240, 80091],\n",
              " [80088, 81089],\n",
              " [81160, 82475],\n",
              " [82567, 82815],\n",
              " [82799, 83848],\n",
              " [84080, 85531],\n",
              " [85682, 86200],\n",
              " [86184, 86597],\n",
              " [86903, 87979],\n",
              " [88125, 89339],\n",
              " [89375, 90339],\n",
              " [90372, 91714],\n",
              " [91950, 92486],\n",
              " [93065, 95284],\n",
              " [95331, 95780],\n",
              " [96179, 96946],\n",
              " [96975, 97748],\n",
              " [97856, 99430],\n",
              " [99547, 101199],\n",
              " [101199, 101960],\n",
              " [101960, 102877],\n",
              " [102884, 103855],\n",
              " [104028, 104711],\n",
              " [104729, 105642],\n",
              " [105640, 106041],\n",
              " [106102, 107337],\n",
              " [107334, 108389],\n",
              " [108441, 108836],\n",
              " [108836, 109147],\n",
              " [109331, 109794],\n",
              " [109933, 110475],\n",
              " [110480, 111238],\n",
              " [111399, 112367],\n",
              " [112369, 113304],\n",
              " [113325, 114833],\n",
              " [114854, 115786],\n",
              " [115783, 117717],\n",
              " [118325, 118648],\n",
              " [118650, 118889],\n",
              " [119363, 121093],\n",
              " [121210, 121775],\n",
              " [121754, 121906],\n",
              " [121991, 122175],\n",
              " [122233, 122838],\n",
              " [122831, 123133],\n",
              " [123112, 123603],\n",
              " [123963, 127490],\n",
              " [127508, 128596],\n",
              " [128871, 129416],\n",
              " [129496, 129975],\n",
              " [130165, 131088],\n",
              " [131424, 132029],\n",
              " [132055, 132642],\n",
              " [132704, 132868],\n",
              " [133024, 133353],\n",
              " [133359, 133592],\n",
              " [133734, 133907],\n",
              " [134018, 134581],\n",
              " [134618, 134752],\n",
              " [134813, 135208],\n",
              " [135205, 135459],\n",
              " [135483, 136109],\n",
              " [136809, 137405],\n",
              " [137469, 137984],\n",
              " [137971, 138201],\n",
              " [138395, 139030],\n",
              " [139027, 139605],\n",
              " [140183, 140953],\n",
              " [141175, 142608],\n",
              " [142739, 143341],\n",
              " [143442, 143843],\n",
              " [144075, 144140],\n",
              " [144264, 144923],\n",
              " [145089, 145526],\n",
              " [145999, 146691],\n",
              " [146988, 148201],\n",
              " [148818, 149840],\n",
              " [149872, 150618],\n",
              " [150712, 151974],\n",
              " [151999, 153024],\n",
              " [153177, 154277],\n",
              " [154571, 155461],\n",
              " [155582, 156688],\n",
              " [156884, 157714],\n",
              " [157711, 157866],\n",
              " [157868, 158764],\n",
              " [158823, 160139],\n",
              " [160553, 161307],\n",
              " [161326, 162153],\n",
              " [162312, 163238],\n",
              " [163241, 164715],\n",
              " [165013, 166023],\n",
              " [166079, 167002],\n",
              " [167036, 167239],\n",
              " [167296, 168294],\n",
              " [168324, 169370],\n",
              " [169367, 170287],\n",
              " [170448, 170969],\n",
              " [170930, 171490],\n",
              " [171734, 171979],\n",
              " [172121, 173343],\n",
              " [173395, 174261],\n",
              " [174340, 175134],\n",
              " [175238, 176302],\n",
              " [176519, 177673],\n",
              " [177820, 179216],\n",
              " [179213, 179716],\n",
              " [179919, 183968],\n",
              " [183989, 184522],\n",
              " [184775, 185344],\n",
              " [185341, 189447],\n",
              " [189573, 192965],\n",
              " [193105, 193407],\n",
              " [193377, 194246],\n",
              " [194239, 195441],\n",
              " [195549, 196064],\n",
              " [196715, 196918],\n",
              " [197590, 198659],\n",
              " [198659, 199462],\n",
              " [199513, 200330],\n",
              " [200327, 201127],\n",
              " [201190, 201783],\n",
              " [201865, 202260],\n",
              " [202473, 202691],\n",
              " [202731, 203528],\n",
              " [203538, 203777],\n",
              " [203903, 204133],\n",
              " [204423, 204659],\n",
              " [204659, 204826],\n",
              " [204830, 205135],\n",
              " [205388, 205666],\n",
              " [205958, 207910],\n",
              " [208042, 209832],\n",
              " [209975, 211473],\n",
              " [211512, 212276],\n",
              " [212318, 213474],\n",
              " [213719, 214408],\n",
              " [214405, 215010],\n",
              " [215275, 215697],\n",
              " [216173, 219130],\n",
              " [219048, 221015],\n",
              " [221105, 221458],\n",
              " [221664, 222458],\n",
              " [222474, 223583],\n",
              " [223629, 224243],\n",
              " [224246, 225097],\n",
              " [225105, 225356],\n",
              " [225535, 226485],\n",
              " [226659, 227129],\n",
              " [227177, 228481],\n",
              " [228536, 229141],\n",
              " [229218, 230735],\n",
              " [230857, 232880],\n",
              " [232895, 233782],\n",
              " [233779, 234546],\n",
              " [234543, 235747],\n",
              " [235973, 237312],\n",
              " [237646, 238488],\n",
              " [238728, 242477],\n",
              " [243249, 244617],\n",
              " [244622, 245617],\n",
              " [245614, 246708],\n",
              " [246869, 247315],\n",
              " [247325, 248287],\n",
              " [248292, 249341],\n",
              " [249406, 250281],\n",
              " [250313, 251959],\n",
              " [252015, 252506],\n",
              " [252413, 253222],\n",
              " [253487, 253975],\n",
              " [254762, 255976],\n",
              " [256278, 256799],\n",
              " [256796, 257086],\n",
              " [257112, 257924],\n",
              " [257980, 258267],\n",
              " [258297, 259230],\n",
              " [259442, 260506],\n",
              " [260552, 261547],\n",
              " [261636, 262571],\n",
              " [262667, 263458],\n",
              " [263470, 263910],\n",
              " [263999, 264805],\n",
              " [264818, 265024],\n",
              " [265175, 265684],\n",
              " [265742, 266449],\n",
              " [266446, 267753],\n",
              " [267898, 268803],\n",
              " [268800, 269945],\n",
              " [270102, 271157],\n",
              " [271346, 271855],\n",
              " [271936, 272361],\n",
              " [272392, 272937],\n",
              " [273025, 273336],\n",
              " [273404, 275281],\n",
              " [275471, 276217],\n",
              " [276326, 278005],\n",
              " [278378, 278467],\n",
              " [278467, 280140],\n",
              " [280143, 282341],\n",
              " [282364, 282962],\n",
              " [282965, 285486],\n",
              " [285479, 286204],\n",
              " [286234, 286854],\n",
              " [286920, 287513],\n",
              " [287781, 288641],\n",
              " [288584, 289498],\n",
              " [289541, 290140],\n",
              " [290137, 290898],\n",
              " [290913, 293378],\n",
              " [293687, 295750],\n",
              " [296435, 297538],\n",
              " [297586, 298254],\n",
              " [298251, 298667],\n",
              " [298613, 299977],\n",
              " [300229, 301686],\n",
              " [301881, 302813],\n",
              " [302989, 304143],\n",
              " [304173, 304664],\n",
              " [304666, 305121],\n",
              " [305091, 307310],\n",
              " [307383, 309119],\n",
              " [309320, 309484],\n",
              " [309566, 309856],\n",
              " [310403, 310612],\n",
              " [310824, 311561],\n",
              " [311561, 312274],\n",
              " [312420, 313253],\n",
              " [313250, 314434],\n",
              " [314431, 314712],\n",
              " [314712, 316169],\n",
              " [316159, 316551],\n",
              " [316713, 316910],\n",
              " [316925, 317001],\n",
              " [317228, 317772],\n",
              " [317901, 318635],\n",
              " [318635, 319447],\n",
              " [319489, 320757],\n",
              " [320754, 321404],\n",
              " [321408, 322354],\n",
              " [322435, 323752],\n",
              " [323825, 324175],\n",
              " [324188, 324613],\n",
              " [325263, 325883],\n",
              " [326070, 327040],\n",
              " [327146, 328072],\n",
              " [328403, 329722],\n",
              " [329643, 330599],\n",
              " [330706, 332172],\n",
              " [332217, 332837],\n",
              " [333100, 333492],\n",
              " [333569, 334048],\n",
              " [334084, 335925],\n",
              " [336028, 337428],\n",
              " [337570, 338238],\n",
              " [338235, 339335],\n",
              " [339320, 339697],\n",
              " [339694, 340725],\n",
              " [341297, 341539],\n",
              " [342544, 343407],\n",
              " [343419, 343931],\n",
              " [343946, 344740],\n",
              " [344787, 345179],\n",
              " [345319, 346614],\n",
              " [346786, 347442],\n",
              " [347472, 349358],\n",
              " [349497, 350600],\n",
              " [351203, 353800],\n",
              " [353806, 354261],\n",
              " [354348, 354776],\n",
              " [354831, 355553],\n",
              " [355656, 356893],\n",
              " [356890, 357347],\n",
              " [357600, 357764],\n",
              " [358014, 358250],\n",
              " [358426, 358826],\n",
              " [358826, 360966],\n",
              " [361052, 362020],\n",
              " [362241, 363176],\n",
              " [363203, 363529],\n",
              " [363522, 363824],\n",
              " [364105, 364521],\n",
              " [364518, 364724],\n",
              " [364697, 366160],\n",
              " [366503, 367078],\n",
              " [367160, 367612],\n",
              " [367640, 369355],\n",
              " [369369, 371045],\n",
              " [371171, 373237],\n",
              " [373241, 373609],\n",
              " [373726, 373941],\n",
              " [373938, 374336],\n",
              " [374345, 375214],\n",
              " [375274, 375516],\n",
              " [375670, 377000],\n",
              " [377048, 378400],\n",
              " [378397, 378810],\n",
              " [378807, 379439],\n",
              " [379506, 381196],\n",
              " [381199, 382848],\n",
              " [382851, 384094],\n",
              " [384091, 385374],\n",
              " [385574, 386743],\n",
              " [386792, 387525],\n",
              " [387664, 388416],\n",
              " [388511, 389332],\n",
              " [389332, 389910],\n",
              " [390029, 391266],\n",
              " [391309, 391995],\n",
              " [392132, 392488],\n",
              " [392584, 393333],\n",
              " [393330, 393985],\n",
              " [393982, 395148],\n",
              " [395158, 395940],\n",
              " [396119, 397411],\n",
              " [397437, 398618],\n",
              " [398678, 399469],\n",
              " [399549, 400145],\n",
              " [400153, 401940],\n",
              " [402076, 402963],\n",
              " [402963, 404279],\n",
              " [404505, 406730],\n",
              " [407183, 407629],\n",
              " [407851, 408813],\n",
              " [408897, 409565],\n",
              " [409734, 410315],\n",
              " [410315, 410566],\n",
              " [410563, 411528],\n",
              " [411602, 411808],\n",
              " [411796, 412773],\n",
              " [412824, 413984],\n",
              " [414095, 414673],\n",
              " [414766, 416337],\n",
              " [416334, 416873],\n",
              " [416900, 416973],\n",
              " [417042, 418325],\n",
              " [418455, 418595],\n",
              " [418791, 419417],\n",
              " [419414, 420691],\n",
              " [420781, 422313],\n",
              " [422605, 423231],\n",
              " [423235, 423951],\n",
              " [423923, 424441],\n",
              " [424509, 424934],\n",
              " [424955, 425767],\n",
              " [426017, 427423],\n",
              " [427570, 428976],\n",
              " [429749, 430879],\n",
              " [430957, 431895],\n",
              " [431892, 432707],\n",
              " [432745, 433818],\n",
              " [434120, 435988],\n",
              " [435991, 436605],\n",
              " [436598, 437566],\n",
              " [437583, 438002],\n",
              " [438035, 439158],\n",
              " [439298, 440448],\n",
              " [440451, 441062],\n",
              " [440990, 441655],\n",
              " [441669, 442307],\n",
              " [442482, 442569],\n",
              " [442679, 443026],\n",
              " [443080, 443700],\n",
              " [443790, 444515],\n",
              " [444842, 445480],\n",
              " [445537, 445971],\n",
              " [445968, 446929],\n",
              " [447095, 447903],\n",
              " [447933, 448598],\n",
              " [448591, 449964],\n",
              " [450114, 450587],\n",
              " [450686, 450784],\n",
              " [450951, 451217],\n",
              " [451237, 451539],\n",
              " [451542, 452021],\n",
              " [452178, 453356],\n",
              " [453560, 454480],\n",
              " [454652, 455095],\n",
              " [455092, 455610],\n",
              " [455764, 456917],\n",
              " [456945, 458327],\n",
              " [458351, 459840],\n",
              " [460057, 461502],\n",
              " [461645, 463098],\n",
              " [463184, 464188],\n",
              " [464444, 465457],\n",
              " [465525, 466409],\n",
              " [466445, 467788],\n",
              " [467785, 468576],\n",
              " [468590, 469348],\n",
              " [469395, 469745],\n",
              " [469678, 470109],\n",
              " [470076, 470696],\n",
              " [470636, 471775],\n",
              " [471982, 473613],\n",
              " [473624, 474681],\n",
              " [474804, 475594],\n",
              " [475591, 477329],\n",
              " [477376, 478689],\n",
              " [478747, 479852],\n",
              " [479986, 481365],\n",
              " [481623, 482507],\n",
              " [482504, 485209],\n",
              " [485275, 485652],\n",
              " [485651, 485881],\n",
              " [486634, 487254],\n",
              " [487517, 488023],\n",
              " [488027, 488626],\n",
              " [488668, 490257],\n",
              " [491253, 494102],\n",
              " [494399, 495742],\n",
              " [496706, 497089],\n",
              " [497086, 497367],\n",
              " [497611, 499416],\n",
              " [499473, 500852],\n",
              " [501355, 502023],\n",
              " [502380, 506216],\n",
              " [506571, 507440],\n",
              " [507459, 508202],\n",
              " [508283, 508959],\n",
              " [508984, 510045],\n",
              " [510042, 510557],\n",
              " [511154, 512170],\n",
              " [512125, 512871],\n",
              " [513309, 513962],\n",
              " [513959, 514576],\n",
              " [514616, 515332],\n",
              " [515448, 516990],\n",
              " [517226, 517792],\n",
              " [517805, 518416],\n",
              " [518413, 518925],\n",
              " [518987, 519646],\n",
              " [519633, 522074],\n",
              " [522071, 522724],\n",
              " [523688, 524371],\n",
              " [525215, 526171],\n",
              " [526213, 527225],\n",
              " [527306, 528678],\n",
              " [528948, 529822],\n",
              " [530042, 530713],\n",
              " [530710, 531921],\n",
              " [532344, 534158],\n",
              " [534155, 535974],\n",
              " [536356, 536979],\n",
              " [536985, 537800],\n",
              " [537871, 538743],\n",
              " [538707, 539468],\n",
              " [539600, 540924],\n",
              " [541206, 541762],\n",
              " [541887, 542879],\n",
              " [542936, 543687],\n",
              " [543800, 544762],\n",
              " [545167, 545769],\n",
              " [545939, 547513],\n",
              " [547497, 548597],\n",
              " [548600, 549514],\n",
              " [549511, 550416],\n",
              " [550409, 551203],\n",
              " [551245, 551508],\n",
              " [551775, 552143],\n",
              " [552104, 552520],\n",
              " [552594, 553517],\n",
              " [553525, 554877],\n",
              " [554899, 555452],\n",
              " [555463, 556218],\n",
              " [556263, 557072],\n",
              " [557102, 558031],\n",
              " [558194, 558916],\n",
              " [558922, 560463],\n",
              " [560512, 561291],\n",
              " [561296, 562273],\n",
              " [562440, 563450],\n",
              " [563484, 564275],\n",
              " [564277, 565110],\n",
              " [565187, 566008],\n",
              " [566022, 567473],\n",
              " [567474, 568478],\n",
              " [568723, 570011],\n",
              " [570274, 571227],\n",
              " [571224, 572231],\n",
              " [572228, 572959],\n",
              " [573024, 574145],\n",
              " [574206, 575499],\n",
              " [575435, 576915],\n",
              " [576937, 577740],\n",
              " [577821, 579459],\n",
              " [579510, 580431],\n",
              " [580466, 581458],\n",
              " [581506, 582724],\n",
              " [582963, 584249],\n",
              " [584252, 584749],\n",
              " [584731, 585114],\n",
              " [585157, 585241],\n",
              " [585646, 587862],\n",
              " [587905, 588381],\n",
              " [588512, 588583],\n",
              " [588613, 588686],\n",
              " [588812, 589894],\n",
              " [590263, 591435],\n",
              " [591871, 592344],\n",
              " [592425, 592847],\n",
              " [593056, 594278],\n",
              " [594373, 594768],\n",
              " [595038, 595532],\n",
              " [596023, 596640],\n",
              " [596637, 597191],\n",
              " [597188, 598612],\n",
              " [598748, 600049],\n",
              " [600340, 601875],\n",
              " [602844, 603701],\n",
              " [605896, 606732],\n",
              " [607333, 609729],\n",
              " [609768, 610835],\n",
              " [610832, 611269],\n",
              " [611293, 611481],\n",
              " [612475, 612654],\n",
              " [612816, 613037],\n",
              " [613681, 614304],\n",
              " [614291, 615484],\n",
              " [615681, 616499],\n",
              " [617068, 617964],\n",
              " [617940, 618218],\n",
              " [618472, 619119],\n",
              " [619290, 619880],\n",
              " [620889, 622952],\n",
              " [623035, 623799],\n",
              " [623796, 627041],\n",
              " [627029, 627976],\n",
              " [628196, 636655],\n",
              " [636652, 640419],\n",
              " [640416, 641858],\n",
              " [641986, 642378],\n",
              " [642633, 643949],\n",
              " [643961, 645397],\n",
              " [645419, 646207],\n",
              " [646309, 647772],\n",
              " [647968, 648597],\n",
              " [648700, 649614],\n",
              " [649748, 650737],\n",
              " [650794, 652176],\n",
              " [653323, 655620],\n",
              " [655758, 657524],\n",
              " [657786, 660806],\n",
              " [660836, 665386],\n",
              " [665477, 665553],\n",
              " [665735, 667153],\n",
              " [667350, 667715],\n",
              " [667735, 667920],\n",
              " [668339, 669028],\n",
              " [669025, 670134],\n",
              " [670412, 670864],\n",
              " [670861, 671291],\n",
              " [671354, 672445],\n",
              " [672473, 673174],\n",
              " [673171, 674033],\n",
              " [674035, 674886],\n",
              " [674918, 676308],\n",
              " [676401, 676574],\n",
              " [676600, 677175],\n",
              " [677090, 677548],\n",
              " [677669, 678385],\n",
              " [678641, 679120],\n",
              " [679194, 680264],\n",
              " [680177, 680857],\n",
              " [680850, 681491],\n",
              " [681495, 681893],\n",
              " [681890, 682180],\n",
              " [682243, 682518],\n",
              " [682563, 684139],\n",
              " [684446, 685150],\n",
              " [685195, 686612],\n",
              " [686651, 688279],\n",
              " [688489, 689109],\n",
              " [689188, 690081],\n",
              " [690164, 690790],\n",
              " [690783, 691568],\n",
              " [691580, 691795],\n",
              " [692471, 692680],\n",
              " [693575, 694171],\n",
              " [694574, 695857],\n",
              " [695863, 696762],\n",
              " [696855, 697556],\n",
              " [697630, 698369],\n",
              " [698494, 699357],\n",
              " [699462, 700355],\n",
              " [700541, 700849],\n",
              " [700895, 701809],\n",
              " [701813, 702265],\n",
              " [702322, 703242],\n",
              " [703239, 704710],\n",
              " [704758, 705582],\n",
              " [705638, 706432],\n",
              " [706565, 707859],\n",
              " [707984, 709192],\n",
              " [709351, 710429],\n",
              " [710453, 711250],\n",
              " [711247, 712485],\n",
              " [712415, 713836],\n",
              " [714056, 715269],\n",
              " [715368, 716327],\n",
              " [716590, 718239],\n",
              " [718283, 719233],\n",
              " [719230, 720147],\n",
              " [720147, 720632],\n",
              " [720629, 720979],\n",
              " [720976, 721794],\n",
              " [721866, 722929],\n",
              " [723011, 724246],\n",
              " [724333, 725235],\n",
              " [725264, 726349],\n",
              " [726403, 726777],\n",
              " [726938, 728353],\n",
              " [728353, 728763],\n",
              " [728969, 729556],\n",
              " [729589, 730260],\n",
              " [730649, 731503],\n",
              " [731616, 732730],\n",
              " [732777, 734431],\n",
              " [734504, 735481],\n",
              " [735478, 737880],\n",
              " [737999, 738571],\n",
              " [738582, 740282],\n",
              " [740323, 740859],\n",
              " [740890, 741476],\n",
              " [741821, 742543],\n",
              " [742590, 745046],\n",
              " [745291, 745800],\n",
              " [745881, 746261],\n",
              " [746499, 748234],\n",
              " [748234, 750297],\n",
              " [750468, 751301],\n",
              " [751306, 751404],\n",
              " [751443, 752889],\n",
              " [752965, 755091],\n",
              " [755088, 756275],\n",
              " [756380, 758239],\n",
              " [759093, 759689],\n",
              " [759785, 761062],\n",
              " [761077, 762141],\n",
              " [762248, 763460],\n",
              " [764661, 766544],\n",
              " [766544, 767605],\n",
              " [769422, 770360],\n",
              " [770365, 773079],\n",
              " [773191, 773358],\n",
              " [773360, 773833],\n",
              " [773899, 776316],\n",
              " [776289, 776558],\n",
              " [776695, 778683],\n",
              " [779039, 779944],\n",
              " [780031, 780606],\n",
              " [780555, 780899],\n",
              " [781047, 781361],\n",
              " [781411, 781713],\n",
              " [781755, 782549],\n",
              " [782726, 785543],\n",
              " [785547, 786166],\n",
              " [786248, 787282],\n",
              " [787321, 789654],\n",
              " [789817, 790764],\n",
              " [790814, 791317],\n",
              " [791314, 792018],\n",
              " [792018, 792287],\n",
              " [792340, 793236],\n",
              " [793420, 794127],\n",
              " [794136, 795518],\n",
              " [795618, 797807],\n",
              " [797804, 797998],\n",
              " [798029, 799666],\n",
              " [799746, 800207],\n",
              " [800377, 800814],\n",
              " [800796, 801158],\n",
              " [801283, 802128],\n",
              " [802353, 802694],\n",
              " [802878, 803669],\n",
              " [803698, 804950],\n",
              " [805039, 805500],\n",
              " [805530, 805895],\n",
              " [805938, 806297],\n",
              " [806331, 806594],\n",
              " [806655, 806837],\n",
              " [806882, 808342],\n",
              " [808487, 809599],\n",
              " [809743, 810210],\n",
              " [810207, 810986],\n",
              " [811076, 811564],\n",
              " [811728, 812330],\n",
              " [812417, 813118],\n",
              " [813133, 813852],\n",
              " [813795, 814409],\n",
              " [814522, 815163],\n",
              " [815210, 816706],\n",
              " [816703, 817701],\n",
              " [817696, 818178],\n",
              " [818375, 819884],\n",
              " [819881, 820234],\n",
              " [820231, 821604],\n",
              " [822134, 823081],\n",
              " [823027, 823509],\n",
              " [823502, 824206],\n",
              " [824212, 824829],\n",
              " [824979, 825464],\n",
              " [825404, 825736],\n",
              " [825797, 827562],\n",
              " [827618, 829886],\n",
              " [829883, 830089],\n",
              " [830116, 830268],\n",
              " [830265, 830378],\n",
              " [830711, 831085],\n",
              " [831192, 832186],\n",
              " [832396, 832653],\n",
              " [832729, 835504],\n",
              " [835703, 836101],\n",
              " [836368, 837042],\n",
              " [837145, 837552],\n",
              " [837563, 838006],\n",
              " [838044, 838487],\n",
              " [838484, 838873],\n",
              " [838874, 839797],\n",
              " [839837, 840805],\n",
              " [840802, 841158],\n",
              " [841243, 841710],\n",
              " [841697, 842392],\n",
              " [842347, 842646],\n",
              " [842921, 844979],\n",
              " [845011, 846048],\n",
              " [846045, 846269],\n",
              " [846571, 847902],\n",
              " [847899, 848183],\n",
              " [848242, 848586],\n",
              " [848499, 849542],\n",
              " [849701, 850900],\n",
              " [850897, 852138],\n",
              " [852164, 852772],\n",
              " [852907, 854628],\n",
              " [854803, 856058],\n",
              " [856073, 856558],\n",
              " [856701, 857186],\n",
              " [857273, 858142],\n",
              " [858139, 858384],\n",
              " [858384, 860261],\n",
              " [860268, 860732],\n",
              " [860854, 860997],\n",
              " [861022, 861795],\n",
              " [861824, 862414],\n",
              " [862496, 862513],\n",
              " [862783, 863976],\n",
              " [864025, 864936],\n",
              " [864936, 865739],\n",
              " [865750, 866175],\n",
              " [866163, 866636],\n",
              " [866646, 867410],\n",
              " [867526, 868311],\n",
              " [868316, 869127],\n",
              " [869151, 870476],\n",
              " [870520, 871275],\n",
              " [871280, 871771],\n",
              " [871918, 872271],\n",
              " [872651, 873232],\n",
              " [873293, 874087],\n",
              " [874213, 874476],\n",
              " [874682, 876420],\n",
              " [876426, 877934],\n",
              " [878225, 878656],\n",
              " [878903, 879358],\n",
              " [879700, 879789],\n",
              " [879894, 880794],\n",
              " [880852, 882205],\n",
              " [882303, 883750],\n",
              " [883841, 884608],\n",
              " [884617, 885066],\n",
              " [885174, 886108],\n",
              " [886111, 887550],\n",
              " [887647, 889304],\n",
              " [889408, 890208],\n",
              " [890211, 891514],\n",
              " [891871, 892479],\n",
              " [892476, 893945],\n",
              " [893991, 894317],\n",
              " [894428, 895639],\n",
              " [895639, 895788],\n",
              " [895785, 896264],\n",
              " [896308, 896814],\n",
              " [896818, 898146],\n",
              " [898143, 898865],\n",
              " [899105, 899932],\n",
              " [900062, 901345],\n",
              " [901342, 902274],\n",
              " [902426, 904138],\n",
              " [904194, 905548],\n",
              " [905655, 907253],\n",
              " [907257, 908248],\n",
              " [908267, 908847],\n",
              " [908983, 909930],\n",
              " [910040, 910453],\n",
              " [910450, 911874],\n",
              " [912039, 913430],\n",
              " [913912, 915432],\n",
              " [915926, 919027],\n",
              " [919161, 919277],\n",
              " [919389, 921278],\n",
              " [921278, 922309],\n",
              " [922387, 922581],\n",
              " [922568, 923467],\n",
              " [923464, 924395],\n",
              " [924392, 926077],\n",
              " [926126, 927382],\n",
              " [927463, 929124],\n",
              " [929114, 929773],\n",
              " [929773, 930726],\n",
              " [930948, 933572],\n",
              " [933721, 934575],\n",
              " [934587, 935420],\n",
              " [935458, 936071],\n",
              " [936193, 936912],\n",
              " [937181, 938329],\n",
              " [938314, 939072],\n",
              " [939246, 940661],\n",
              " [940766, 941176],\n",
              " [941318, 942875],\n",
              " [942931, 943500],\n",
              " [943694, 944164],\n",
              " [944347, 945282],\n",
              " [945323, 945673],\n",
              " [945736, 946172],\n",
              " [947143, 947218],\n",
              " [947693, 947875],\n",
              " [948649, 948786],\n",
              " [949007, 949216],\n",
              " [949284, 949442],\n",
              " [949445, 949846],\n",
              " [949873, 950553],\n",
              " [951097, 952800],\n",
              " [954136, 954792],\n",
              " [954789, 955892],\n",
              " [956230, 956664],\n",
              " [956607, 957662],\n",
              " [957659, 959401],\n",
              " [959398, 959892],\n",
              " [961314, 962369],\n",
              " [962981, 963160],\n",
              " [963205, 963897],\n",
              " [964470, 964877],\n",
              " [965389, 965862],\n",
              " [966284, 967318],\n",
              " [967315, 968997],\n",
              " [969340, 971604],\n",
              " [971615, 971791],\n",
              " [972271, 972687],\n",
              " [972702, 973571],\n",
              " [973625, 974257],\n",
              " [974280, 974573],\n",
              " [974570, 975010],\n",
              " [975088, 975579],\n",
              " [975701, 976861],\n",
              " [976958, 977401],\n",
              " [977427, 978758],\n",
              " [978772, 980292],\n",
              " [980405, 981304],\n",
              " [981301, 983475],\n",
              " [983663, 984067],\n",
              " [984095, 984574],\n",
              " [984691, 984864],\n",
              " [985059, 985601],\n",
              " [985639, 986502],\n",
              " [986572, 987393],\n",
              " [987396, 988710],\n",
              " [989136, 989704],\n",
              " [989701, 991375],\n",
              " [991548, 993023],\n",
              " [993106, 993769],\n",
              " [993795, 994130],\n",
              " [994131, 994501],\n",
              " [994531, 995373],\n",
              " [995427, 996002],\n",
              " [996018, 996467],\n",
              " [996460, 997312],\n",
              " [997315, 997584],\n",
              " [997595, 998266],\n",
              " [998495, 1001992],\n",
              " [1002028, 1005920],\n",
              " [1006099, 1007100],\n",
              " [1007097, 1007579],\n",
              " [1007726, 1008217],\n",
              " [1008948, 1009322],\n",
              " [1009322, 1009792],\n",
              " [1009907, 1012027],\n",
              " [1012190, 1013383],\n",
              " [1013455, 1013706],\n",
              " [1013921, 1015720],\n",
              " [1015717, 1016799],\n",
              " [1017164, 1017472],\n",
              " [1017487, 1018134],\n",
              " [1018143, 1018796],\n",
              " [1018793, 1019092],\n",
              " [1019115, 1019950],\n",
              " [1019975, 1020256],\n",
              " [1020283, 1020662],\n",
              " [1020662, 1021420],\n",
              " [1021423, 1021842],\n",
              " [1021842, 1022150],\n",
              " [1022153, 1022425],\n",
              " [1022456, 1022824],\n",
              " [1022828, 1023190],\n",
              " [1023190, 1023750],\n",
              " [1023867, 1024265],\n",
              " [1024272, 1024808],\n",
              " [1024811, 1025185],\n",
              " [1025182, 1025901],\n",
              " [1025901, 1026089],\n",
              " [1026086, 1026547],\n",
              " [1026742, 1028061],\n",
              " [1028058, 1028659],\n",
              " [1028723, 1029505],\n",
              " [1029640, 1029861],\n",
              " [1029931, 1030044],\n",
              " [1030230, 1030598],\n",
              " [1030648, 1031046],\n",
              " [1031186, 1032172],\n",
              " [1032218, 1032760],\n",
              " [1032976, 1033113],\n",
              " [1033146, 1033655],\n",
              " [1033652, 1034865],\n",
              " [1034990, 1035834],\n",
              " [1035970, 1036416],\n",
              " ...]"
            ]
          },
          "metadata": {},
          "execution_count": 40
        }
      ]
    },
    {
      "cell_type": "markdown",
      "source": [
        "Leucobacter denitrificans"
      ],
      "metadata": {
        "id": "T1LOxDY4B2ZK"
      }
    },
    {
      "cell_type": "code",
      "source": [
        "L638_genes = []\n",
        "with open('/content/GCF_014396385.1_ASM1439638v1_genomic.gtf', mode = 'r') as inf:\n",
        "    for line in inf:\n",
        "          if 'RefSeq\tgene' in line:\n",
        "            stop = int(line.strip().split('\\t')[4])\n",
        "            start = int(line.strip().split('\\t')[3])\n",
        "            id = ((line.strip().split('gene_id')[1]).split(';')[0]).replace('\\\"', '').replace(' ', '')\n",
        "            L638_genes.append([start, stop])"
      ],
      "metadata": {
        "id": "36PLnAxpBXyR"
      },
      "execution_count": null,
      "outputs": []
    },
    {
      "cell_type": "markdown",
      "source": [
        "Leucobacter insecticola"
      ],
      "metadata": {
        "id": "E6wUypyCCELp"
      }
    },
    {
      "cell_type": "code",
      "source": [
        "L296_genes = []\n",
        "with open('/content/GCF_011382965.1_ASM1138296v1_genomic.gtf', mode = 'r') as inf:\n",
        "    for line in inf:\n",
        "          if 'RefSeq\tgene' in line:\n",
        "            stop = int(line.strip().split('\\t')[4])\n",
        "            start = int(line.strip().split('\\t')[3])\n",
        "            id = ((line.strip().split('gene_id')[1]).split(';')[0]).replace('\\\"', '').replace(' ', '')\n",
        "            L296_genes.append([start, stop])"
      ],
      "metadata": {
        "id": "pl_qfdzQCE9S"
      },
      "execution_count": null,
      "outputs": []
    },
    {
      "cell_type": "markdown",
      "source": [
        "Leucobacter muris"
      ],
      "metadata": {
        "id": "reNRovIgCQT_"
      }
    },
    {
      "cell_type": "code",
      "source": [
        "L823_genes = []\n",
        "with open('/content/GCF_004028235.1_ASM402823v1_genomic.gtf', mode = 'r') as inf:\n",
        "    for line in inf:\n",
        "          if 'RefSeq\tgene' in line:\n",
        "            stop = int(line.strip().split('\\t')[4])\n",
        "            start = int(line.strip().split('\\t')[3])\n",
        "            id = ((line.strip().split('gene_id')[1]).split(';')[0]).replace('\\\"', '').replace(' ', '')\n",
        "            L823_genes.append([start, stop])"
      ],
      "metadata": {
        "id": "205tD1S4CRC7"
      },
      "execution_count": null,
      "outputs": []
    },
    {
      "cell_type": "markdown",
      "source": [
        "Leucobacter triazinivorans"
      ],
      "metadata": {
        "id": "ufFvX7w_CYoc"
      }
    },
    {
      "cell_type": "code",
      "source": [
        "L863_genes = []\n",
        "with open('/content/GCF_004208635.1_ASM420863v1_genomic.gtf', mode = 'r') as inf:\n",
        "    for line in inf:\n",
        "          if 'RefSeq\tgene' in line:\n",
        "            stop = int(line.strip().split('\\t')[4])\n",
        "            start = int(line.strip().split('\\t')[3])\n",
        "            id = ((line.strip().split('gene_id')[1]).split(';')[0]).replace('\\\"', '').replace(' ', '')\n",
        "            L863_genes.append([start, stop])"
      ],
      "metadata": {
        "id": "gWFfZcyoCZXc"
      },
      "execution_count": null,
      "outputs": []
    },
    {
      "cell_type": "markdown",
      "source": [
        "# ZHunt"
      ],
      "metadata": {
        "id": "5hdHWAQUCvzO"
      }
    },
    {
      "cell_type": "code",
      "source": [
        "!pip3 install bio"
      ],
      "metadata": {
        "colab": {
          "base_uri": "https://localhost:8080/"
        },
        "id": "ykCvmlkqC8SZ",
        "outputId": "0fc23d2f-fccc-4476-a872-f216f918a412"
      },
      "execution_count": null,
      "outputs": [
        {
          "output_type": "stream",
          "name": "stdout",
          "text": [
            "Looking in indexes: https://pypi.org/simple, https://us-python.pkg.dev/colab-wheels/public/simple/\n",
            "Collecting bio\n",
            "  Downloading bio-1.3.9-py3-none-any.whl (270 kB)\n",
            "\u001b[K     |████████████████████████████████| 270 kB 7.7 MB/s \n",
            "\u001b[?25hRequirement already satisfied: tqdm in /usr/local/lib/python3.7/dist-packages (from bio) (4.64.0)\n",
            "Requirement already satisfied: requests in /usr/local/lib/python3.7/dist-packages (from bio) (2.23.0)\n",
            "Collecting mygene\n",
            "  Downloading mygene-3.2.2-py2.py3-none-any.whl (5.4 kB)\n",
            "Collecting biopython>=1.79\n",
            "  Downloading biopython-1.79-cp37-cp37m-manylinux_2_5_x86_64.manylinux1_x86_64.whl (2.3 MB)\n",
            "\u001b[K     |████████████████████████████████| 2.3 MB 33.5 MB/s \n",
            "\u001b[?25hRequirement already satisfied: numpy in /usr/local/lib/python3.7/dist-packages (from biopython>=1.79->bio) (1.21.6)\n",
            "Collecting biothings-client>=0.2.6\n",
            "  Downloading biothings_client-0.2.6-py2.py3-none-any.whl (37 kB)\n",
            "Requirement already satisfied: chardet<4,>=3.0.2 in /usr/local/lib/python3.7/dist-packages (from requests->bio) (3.0.4)\n",
            "Requirement already satisfied: idna<3,>=2.5 in /usr/local/lib/python3.7/dist-packages (from requests->bio) (2.10)\n",
            "Requirement already satisfied: urllib3!=1.25.0,!=1.25.1,<1.26,>=1.21.1 in /usr/local/lib/python3.7/dist-packages (from requests->bio) (1.24.3)\n",
            "Requirement already satisfied: certifi>=2017.4.17 in /usr/local/lib/python3.7/dist-packages (from requests->bio) (2022.5.18.1)\n",
            "Installing collected packages: biothings-client, mygene, biopython, bio\n",
            "Successfully installed bio-1.3.9 biopython-1.79 biothings-client-0.2.6 mygene-3.2.2\n"
          ]
        }
      ]
    },
    {
      "cell_type": "code",
      "source": [
        "!wget https://raw.githubusercontent.com/vanya-antonov/hse22-project/main/zhunt3-alan.c"
      ],
      "metadata": {
        "colab": {
          "base_uri": "https://localhost:8080/"
        },
        "id": "-F2RajBsDDjD",
        "outputId": "17bc2977-aae9-45a4-9ecd-f0455156154a"
      },
      "execution_count": null,
      "outputs": [
        {
          "output_type": "stream",
          "name": "stdout",
          "text": [
            "--2022-06-13 12:01:08--  https://raw.githubusercontent.com/vanya-antonov/hse22-project/main/zhunt3-alan.c\n",
            "Resolving raw.githubusercontent.com (raw.githubusercontent.com)... 185.199.109.133, 185.199.111.133, 185.199.110.133, ...\n",
            "Connecting to raw.githubusercontent.com (raw.githubusercontent.com)|185.199.109.133|:443... connected.\n",
            "HTTP request sent, awaiting response... 200 OK\n",
            "Length: 23973 (23K) [text/plain]\n",
            "Saving to: ‘zhunt3-alan.c’\n",
            "\n",
            "\rzhunt3-alan.c         0%[                    ]       0  --.-KB/s               \rzhunt3-alan.c       100%[===================>]  23.41K  --.-KB/s    in 0.001s  \n",
            "\n",
            "2022-06-13 12:01:08 (41.0 MB/s) - ‘zhunt3-alan.c’ saved [23973/23973]\n",
            "\n"
          ]
        }
      ]
    },
    {
      "cell_type": "code",
      "source": [
        "!gcc zhunt3-alan.c -lm -o zhunt3"
      ],
      "metadata": {
        "colab": {
          "base_uri": "https://localhost:8080/"
        },
        "id": "Q3vKP1hBDHyQ",
        "outputId": "75a85c9f-6ea0-4ee9-ff02-034c3981fe17"
      },
      "execution_count": null,
      "outputs": [
        {
          "output_type": "stream",
          "name": "stdout",
          "text": [
            "\u001b[01m\u001b[Kzhunt3-alan.c:\u001b[m\u001b[K In function ‘\u001b[01m\u001b[Kuser_regret\u001b[m\u001b[K’:\n",
            "\u001b[01m\u001b[Kzhunt3-alan.c:336:9:\u001b[m\u001b[K \u001b[01;35m\u001b[Kwarning: \u001b[m\u001b[Kimplicit declaration of function ‘\u001b[01m\u001b[Kgets\u001b[m\u001b[K’; did you mean ‘\u001b[01m\u001b[Kfgets\u001b[m\u001b[K’? [\u001b[01;35m\u001b[K-Wimplicit-function-declaration\u001b[m\u001b[K]\n",
            "         \u001b[01;35m\u001b[Kgets\u001b[m\u001b[K(tempstr);\n",
            "         \u001b[01;35m\u001b[K^~~~\u001b[m\u001b[K\n",
            "         \u001b[32m\u001b[Kfgets\u001b[m\u001b[K\n",
            "/tmp/ccyBINOq.o: In function `user_regret':\n",
            "zhunt3-alan.c:(.text+0xba6): warning: the `gets' function is dangerous and should not be used.\n"
          ]
        }
      ]
    },
    {
      "cell_type": "code",
      "source": [
        "import os\n",
        "import subprocess\n",
        "import tempfile\n",
        "from pathlib import Path\n",
        "from subprocess import DEVNULL, PIPE\n",
        "\n",
        "import pandas as pd\n",
        "\n",
        "ZH_EXECUTABLE = Path(\"/content/zhunt3\")\n",
        "assert ZH_EXECUTABLE.is_file()\n",
        "\n",
        "\n",
        "def zhunt(query: str, windowsize: int = 6, minsize: int = 3, maxsize: int = 6):\n",
        "    assert set(query).issubset({\"A\", \"C\", \"G\", \"T\", \"N\"})\n",
        "    fd, temp = tempfile.mkstemp()\n",
        "    os.close(fd)\n",
        "    with open(temp, 'w') as stream:\n",
        "        stream.write(query)\n",
        "\n",
        "    subprocess.run(\n",
        "        [ZH_EXECUTABLE, \n",
        "         str(windowsize), str(minsize), str(maxsize), temp],\n",
        "        check=True, stdout=PIPE, stderr=DEVNULL,\n",
        "        input=query, encoding='ascii'\n",
        "    )\n",
        "    with open(temp + \".Z-SCORE\", 'r') as stream:\n",
        "        df = pd.read_csv(stream,\n",
        "                         names=['Start', 'End', 'nu-1', 'nu-2', 'nu-3', \n",
        "                                'ZH-Score', 'Sequence', 'Conformation'],\n",
        "                         skiprows=1, sep='\\s+')\n",
        "    os.remove(temp)\n",
        "    os.remove(temp + \".Z-SCORE\")\n",
        "    return df[['Start', 'End', 'ZH-Score', 'Sequence', 'Conformation']]"
      ],
      "metadata": {
        "id": "4wB6awoADmTU"
      },
      "execution_count": null,
      "outputs": []
    },
    {
      "cell_type": "markdown",
      "source": [
        "Leucobacter coleopterorum"
      ],
      "metadata": {
        "id": "EULOBzSfE1jC"
      }
    },
    {
      "cell_type": "code",
      "source": [
        "from Bio import SeqIO\n",
        "\n",
        "with open('/content/GCF_011382985.1_ASM1138298v1_genomic.fna', 'r') as stream:\n",
        "  sequences = list(SeqIO.parse(stream, format='fasta'))\n",
        "\n",
        "for s in sequences:\n",
        "  print(f\"{s.description} \\n\\t=> {len(s)}\")"
      ],
      "metadata": {
        "colab": {
          "base_uri": "https://localhost:8080/"
        },
        "id": "qd5vL4vVD_fB",
        "outputId": "bf297559-a33e-4e24-ce48-da765fc006f6"
      },
      "execution_count": null,
      "outputs": [
        {
          "output_type": "stream",
          "name": "stdout",
          "text": [
            "NZ_CP049933.1 Leucobacter coleopterorum strain HDW9A chromosome, complete genome \n",
            "\t=> 3215551\n"
          ]
        }
      ]
    },
    {
      "cell_type": "code",
      "source": [
        "seq = sequences[0]\n",
        "df2 = zhunt(str(seq.seq))\n",
        "df2.shape[0]"
      ],
      "metadata": {
        "colab": {
          "base_uri": "https://localhost:8080/"
        },
        "id": "t0FCfgXTEymM",
        "outputId": "e2cfb3fd-3fc7-4181-8b05-f1e257e56ee5"
      },
      "execution_count": null,
      "outputs": [
        {
          "output_type": "execute_result",
          "data": {
            "text/plain": [
              "3215551"
            ]
          },
          "metadata": {},
          "execution_count": 50
        }
      ]
    },
    {
      "cell_type": "code",
      "source": [
        "z_2 = df2[df2['ZH-Score']>=500]\n",
        "z_2.shape[0]"
      ],
      "metadata": {
        "colab": {
          "base_uri": "https://localhost:8080/"
        },
        "id": "IkyAnwF3F1qb",
        "outputId": "c677bf54-8edb-4a08-915e-349e378edc61"
      },
      "execution_count": null,
      "outputs": [
        {
          "output_type": "execute_result",
          "data": {
            "text/plain": [
              "35755"
            ]
          },
          "metadata": {},
          "execution_count": 51
        }
      ]
    },
    {
      "cell_type": "code",
      "source": [
        "sum([len(seq) for seq in list(z_2['Sequence'])])"
      ],
      "metadata": {
        "colab": {
          "base_uri": "https://localhost:8080/"
        },
        "id": "2VmpeQTfGZGM",
        "outputId": "58a899cb-d689-4c1f-eb21-1cd0898708b2"
      },
      "execution_count": null,
      "outputs": [
        {
          "output_type": "execute_result",
          "data": {
            "text/plain": [
              "353650"
            ]
          },
          "metadata": {},
          "execution_count": 52
        }
      ]
    },
    {
      "cell_type": "markdown",
      "source": [
        "Leucobacter denitrificans"
      ],
      "metadata": {
        "id": "aSpc6p5EHwLm"
      }
    },
    {
      "cell_type": "code",
      "source": [
        "from Bio import SeqIO\n",
        "\n",
        "with open('/content/GCF_014396385.1_ASM1439638v1_genomic.fna', 'r') as stream:\n",
        "  sequences = list(SeqIO.parse(stream, format='fasta'))\n",
        "\n",
        "for s in sequences:\n",
        "  print(f\"{s.description} \\n\\t=> {len(s)}\")"
      ],
      "metadata": {
        "colab": {
          "base_uri": "https://localhost:8080/"
        },
        "id": "YlARGAFIHxDH",
        "outputId": "0789715f-2920-4ce3-8d0e-d3a6800a6a02"
      },
      "execution_count": null,
      "outputs": [
        {
          "output_type": "stream",
          "name": "stdout",
          "text": [
            "NZ_CP060716.1 Leucobacter denitrificans strain KACC 14055 chromosome, complete genome \n",
            "\t=> 2404302\n"
          ]
        }
      ]
    },
    {
      "cell_type": "code",
      "source": [
        "seq = sequences[0]\n",
        "df3 = zhunt(str(seq.seq))\n",
        "df3.shape[0]"
      ],
      "metadata": {
        "colab": {
          "base_uri": "https://localhost:8080/"
        },
        "id": "zJdhCBNLIAhX",
        "outputId": "aede3d0c-ca46-4424-ea1f-31f85f07813d"
      },
      "execution_count": null,
      "outputs": [
        {
          "output_type": "execute_result",
          "data": {
            "text/plain": [
              "2404302"
            ]
          },
          "metadata": {},
          "execution_count": 54
        }
      ]
    },
    {
      "cell_type": "code",
      "source": [
        "z_3 = df3[df3['ZH-Score']>=500]\n",
        "z_3.shape[0]"
      ],
      "metadata": {
        "colab": {
          "base_uri": "https://localhost:8080/"
        },
        "id": "w7gU1h4nICCI",
        "outputId": "b6d4f809-a4df-4dc3-e943-409f928fb74c"
      },
      "execution_count": null,
      "outputs": [
        {
          "output_type": "execute_result",
          "data": {
            "text/plain": [
              "30490"
            ]
          },
          "metadata": {},
          "execution_count": 55
        }
      ]
    },
    {
      "cell_type": "code",
      "source": [
        "sum([len(seq) for seq in list(z_3['Sequence'])])"
      ],
      "metadata": {
        "colab": {
          "base_uri": "https://localhost:8080/"
        },
        "id": "08O3rNf_IGl8",
        "outputId": "83424d49-b43b-4a26-b49c-6e56072883d7"
      },
      "execution_count": null,
      "outputs": [
        {
          "output_type": "execute_result",
          "data": {
            "text/plain": [
              "302966"
            ]
          },
          "metadata": {},
          "execution_count": 56
        }
      ]
    },
    {
      "cell_type": "markdown",
      "source": [
        "Leucobacter insecticola"
      ],
      "metadata": {
        "id": "oAdPowbWIqnt"
      }
    },
    {
      "cell_type": "code",
      "source": [
        "from Bio import SeqIO\n",
        "\n",
        "with open('/content/GCF_011382965.1_ASM1138296v1_genomic.fna', 'r') as stream:\n",
        "  sequences = list(SeqIO.parse(stream, format='fasta'))\n",
        "\n",
        "for s in sequences:\n",
        "  print(f\"{s.description} \\n\\t=> {len(s)}\")"
      ],
      "metadata": {
        "colab": {
          "base_uri": "https://localhost:8080/"
        },
        "id": "Yiq4mEmeIsRo",
        "outputId": "96ea8207-6733-401b-98bb-311ce9074b9f"
      },
      "execution_count": null,
      "outputs": [
        {
          "output_type": "stream",
          "name": "stdout",
          "text": [
            "NZ_CP049934.1 Leucobacter insecticola strain HDW9B chromosome, complete genome \n",
            "\t=> 2916402\n"
          ]
        }
      ]
    },
    {
      "cell_type": "code",
      "source": [
        "seq = sequences[0]\n",
        "df4 = zhunt(str(seq.seq))\n",
        "df4.shape[0]"
      ],
      "metadata": {
        "colab": {
          "base_uri": "https://localhost:8080/"
        },
        "id": "E499fa6mIy4S",
        "outputId": "6b54fe34-c8de-42b5-bf5e-92668187a223"
      },
      "execution_count": null,
      "outputs": [
        {
          "output_type": "execute_result",
          "data": {
            "text/plain": [
              "2916402"
            ]
          },
          "metadata": {},
          "execution_count": 58
        }
      ]
    },
    {
      "cell_type": "code",
      "source": [
        "z_4 = df4[df4['ZH-Score']>=500]\n",
        "z_4.shape[0]"
      ],
      "metadata": {
        "colab": {
          "base_uri": "https://localhost:8080/"
        },
        "id": "Th3alGFSI4xY",
        "outputId": "3a1df6d6-77fc-4bf5-9edd-e2314c6830dd"
      },
      "execution_count": null,
      "outputs": [
        {
          "output_type": "execute_result",
          "data": {
            "text/plain": [
              "39637"
            ]
          },
          "metadata": {},
          "execution_count": 59
        }
      ]
    },
    {
      "cell_type": "code",
      "source": [
        "sum([len(seq) for seq in list(z_4['Sequence'])])"
      ],
      "metadata": {
        "colab": {
          "base_uri": "https://localhost:8080/"
        },
        "id": "Wxx1OH-kI8Nc",
        "outputId": "8d93e1e4-cb0f-4607-b83f-e7da8c7fe714"
      },
      "execution_count": null,
      "outputs": [
        {
          "output_type": "execute_result",
          "data": {
            "text/plain": [
              "395578"
            ]
          },
          "metadata": {},
          "execution_count": 60
        }
      ]
    },
    {
      "cell_type": "markdown",
      "source": [
        "Leucobacter muris"
      ],
      "metadata": {
        "id": "iM58NOP8JRka"
      }
    },
    {
      "cell_type": "code",
      "source": [
        "from Bio import SeqIO\n",
        "\n",
        "with open('/content/GCF_004028235.1_ASM402823v1_genomic.fna', 'r') as stream:\n",
        "  sequences = list(SeqIO.parse(stream, format='fasta'))\n",
        "\n",
        "for s in sequences:\n",
        "  print(f\"{s.description} \\n\\t=> {len(s)}\")"
      ],
      "metadata": {
        "colab": {
          "base_uri": "https://localhost:8080/"
        },
        "outputId": "b4e06650-7e46-4ccd-87c7-83c9d56022d8",
        "id": "SQcewhecJ3sm"
      },
      "execution_count": null,
      "outputs": [
        {
          "output_type": "stream",
          "name": "stdout",
          "text": [
            "NZ_CP035037.1 Leucobacter muris strain DSM 101948 chromosome, complete genome \n",
            "\t=> 3211982\n"
          ]
        }
      ]
    },
    {
      "cell_type": "code",
      "source": [
        "seq = sequences[0]\n",
        "df5 = zhunt(str(seq.seq))\n",
        "df5.shape[0]"
      ],
      "metadata": {
        "colab": {
          "base_uri": "https://localhost:8080/"
        },
        "id": "wRIkP-xXKWxO",
        "outputId": "1c23a4f8-713a-4985-aa19-88bddc01d796"
      },
      "execution_count": null,
      "outputs": [
        {
          "output_type": "execute_result",
          "data": {
            "text/plain": [
              "3211982"
            ]
          },
          "metadata": {},
          "execution_count": 62
        }
      ]
    },
    {
      "cell_type": "code",
      "source": [
        "z_5 = df5[df5['ZH-Score']>=500]\n",
        "z_5.shape[0]"
      ],
      "metadata": {
        "colab": {
          "base_uri": "https://localhost:8080/"
        },
        "id": "yFnOM8abKY3T",
        "outputId": "54c6d8cf-f322-48f1-cefd-1fb81ef70ee4"
      },
      "execution_count": null,
      "outputs": [
        {
          "output_type": "execute_result",
          "data": {
            "text/plain": [
              "74272"
            ]
          },
          "metadata": {},
          "execution_count": 63
        }
      ]
    },
    {
      "cell_type": "code",
      "source": [
        "sum([len(seq) for seq in list(z_5['Sequence'])])"
      ],
      "metadata": {
        "colab": {
          "base_uri": "https://localhost:8080/"
        },
        "id": "-C72x4-iKcn9",
        "outputId": "99a9b0f4-b73d-46b5-e2ed-d825a9f93031"
      },
      "execution_count": null,
      "outputs": [
        {
          "output_type": "execute_result",
          "data": {
            "text/plain": [
              "747268"
            ]
          },
          "metadata": {},
          "execution_count": 64
        }
      ]
    },
    {
      "cell_type": "markdown",
      "source": [
        "Leucobacter triazinivorans"
      ],
      "metadata": {
        "id": "xIZkUF46KlJF"
      }
    },
    {
      "cell_type": "code",
      "source": [
        "from Bio import SeqIO\n",
        "\n",
        "with open('/content/GCF_004208635.1_ASM420863v1_genomic.fna', 'r') as stream:\n",
        "  sequences = list(SeqIO.parse(stream, format='fasta'))\n",
        "\n",
        "for s in sequences:\n",
        "  print(f\"{s.description} \\n\\t=> {len(s)}\")"
      ],
      "metadata": {
        "colab": {
          "base_uri": "https://localhost:8080/"
        },
        "id": "fvU_ukJBKmDv",
        "outputId": "f7eb644f-f4b5-429d-bcfe-2edbbb8c4767"
      },
      "execution_count": null,
      "outputs": [
        {
          "output_type": "stream",
          "name": "stdout",
          "text": [
            "NZ_CP035806.1 Leucobacter triazinivorans strain JW-1 chromosome, complete genome \n",
            "\t=> 3478815\n"
          ]
        }
      ]
    },
    {
      "cell_type": "code",
      "source": [
        "seq = sequences[0]\n",
        "df6 = zhunt(str(seq.seq))\n",
        "df6.shape[0]"
      ],
      "metadata": {
        "colab": {
          "base_uri": "https://localhost:8080/"
        },
        "id": "sSjsCpzYK6_G",
        "outputId": "0b051230-b06c-4e28-a891-eb720666a91b"
      },
      "execution_count": null,
      "outputs": [
        {
          "output_type": "execute_result",
          "data": {
            "text/plain": [
              "3478815"
            ]
          },
          "metadata": {},
          "execution_count": 66
        }
      ]
    },
    {
      "cell_type": "code",
      "source": [
        "z_6 = df6[df6['ZH-Score']>=500]\n",
        "z_6.shape[0]"
      ],
      "metadata": {
        "colab": {
          "base_uri": "https://localhost:8080/"
        },
        "id": "cWMTbi_xLG8B",
        "outputId": "1eff5739-d9b4-4c8b-af0d-de2574f441cc"
      },
      "execution_count": null,
      "outputs": [
        {
          "output_type": "execute_result",
          "data": {
            "text/plain": [
              "82742"
            ]
          },
          "metadata": {},
          "execution_count": 67
        }
      ]
    },
    {
      "cell_type": "code",
      "source": [
        "sum([len(seq) for seq in list(z_5['Sequence'])])"
      ],
      "metadata": {
        "colab": {
          "base_uri": "https://localhost:8080/"
        },
        "id": "5uEh-rygLHMO",
        "outputId": "2fe0cbe3-4a9d-4a7e-8bd1-05bd7b92a806"
      },
      "execution_count": null,
      "outputs": [
        {
          "output_type": "execute_result",
          "data": {
            "text/plain": [
              "747268"
            ]
          },
          "metadata": {},
          "execution_count": 68
        }
      ]
    },
    {
      "cell_type": "code",
      "source": [
        "import numpy as np\n",
        "np.savetxt(r'/content/L298.zhunt.txt', z_2.values, fmt='%s')"
      ],
      "metadata": {
        "id": "Mjs1kO8MMpci"
      },
      "execution_count": null,
      "outputs": []
    },
    {
      "cell_type": "code",
      "source": [
        "np.savetxt(r'/content/L638.zhunt.txt', z_3.values, fmt='%s')\n",
        "np.savetxt(r'/content/L296.zhunt.txt', z_4.values, fmt='%s')\n",
        "np.savetxt(r'/content/L823.zhunt.txt', z_5.values, fmt='%s')\n",
        "np.savetxt(r'/content/L863.zhunt.txt', z_6.values, fmt='%s')"
      ],
      "metadata": {
        "id": "LbBRXvW5NoH4"
      },
      "execution_count": null,
      "outputs": []
    },
    {
      "cell_type": "markdown",
      "source": [
        "## Гистограммы"
      ],
      "metadata": {
        "id": "kLRrwhY9Skb1"
      }
    },
    {
      "cell_type": "code",
      "source": [
        "import matplotlib.pyplot as plt"
      ],
      "metadata": {
        "id": "LVW9OF1-Oobt"
      },
      "execution_count": null,
      "outputs": []
    },
    {
      "cell_type": "code",
      "source": [
        "plt.hist(z_2['ZH-Score'], bins = 300, color = 'red')\n",
        "plt.title('ZH-Score Leucobacter coleopterorum')\n",
        "plt.xlim(0, 400000)\n",
        "plt.yscale('log')"
      ],
      "metadata": {
        "colab": {
          "base_uri": "https://localhost:8080/"
        },
        "id": "5Ff3zb6MOp0-",
        "outputId": "f75ceac3-f8d7-4177-f8bd-b7df5fabf6be"
      },
      "execution_count": null,
      "outputs": [
        {
          "output_type": "display_data",
          "data": {
            "text/plain": [
              "<Figure size 432x288 with 1 Axes>"
            ],
            "image/png": "[encoded data removed]"
          },
          "metadata": {
            "needs_background": "light"
          }
        }
      ]
    },
    {
      "cell_type": "code",
      "source": [
        "plt.hist(z_3['ZH-Score'], bins = 300, color = 'red')\n",
        "plt.title('ZH-Score Leucobacter denitrificans')\n",
        "plt.xlim(0, 1000000)\n",
        "plt.yscale('log')"
      ],
      "metadata": {
        "colab": {
          "base_uri": "https://localhost:8080/"
        },
        "id": "8AirPSXBPJo4",
        "outputId": "c2d68f69-a383-45c2-9a32-a56c0fda6c76"
      },
      "execution_count": null,
      "outputs": [
        {
          "output_type": "display_data",
          "data": {
            "text/plain": [
              "<Figure size 432x288 with 1 Axes>"
            ],
            "image/png": "[encoded data removed]"
          },
          "metadata": {
            "needs_background": "light"
          }
        }
      ]
    },
    {
      "cell_type": "code",
      "source": [
        "plt.hist(z_4['ZH-Score'], bins = 300, color = 'red')\n",
        "plt.title('ZH-Score Leucobacter muris')\n",
        "plt.xlim(0, 1000000)\n",
        "plt.yscale('log')"
      ],
      "metadata": {
        "colab": {
          "base_uri": "https://localhost:8080/"
        },
        "id": "2tyMunxIPUoI",
        "outputId": "27cad12a-8197-44e0-89f0-c7961407665b"
      },
      "execution_count": null,
      "outputs": [
        {
          "output_type": "display_data",
          "data": {
            "text/plain": [
              "<Figure size 432x288 with 1 Axes>"
            ],
            "image/png": "[encoded data removed]"
          },
          "metadata": {
            "needs_background": "light"
          }
        }
      ]
    },
    {
      "cell_type": "code",
      "source": [
        "plt.hist(z_5['ZH-Score'], bins = 300, color = 'red')\n",
        "plt.title('ZH-Score Leucobacter insecticola')\n",
        "plt.xlim(0, 1000000)\n",
        "plt.yscale('log')"
      ],
      "metadata": {
        "colab": {
          "base_uri": "https://localhost:8080/"
        },
        "id": "sdtaCCzER0Ur",
        "outputId": "d0cde5c9-d646-400e-dc3d-c9efc5788cab"
      },
      "execution_count": null,
      "outputs": [
        {
          "output_type": "display_data",
          "data": {
            "text/plain": [
              "<Figure size 432x288 with 1 Axes>"
            ],
            "image/png": "[encoded data removed]"
          },
          "metadata": {
            "needs_background": "light"
          }
        }
      ]
    },
    {
      "cell_type": "code",
      "source": [
        "plt.hist(z_6['ZH-Score'], bins = 300, color = 'red')\n",
        "plt.title('ZH-Score Leucobacter triazinivorans')\n",
        "plt.xlim(0, 1000000)\n",
        "plt.yscale('log')"
      ],
      "metadata": {
        "colab": {
          "base_uri": "https://localhost:8080/"
        },
        "id": "Y48WMS5rSZxX",
        "outputId": "d14bff8c-cf3d-43c1-a84f-d5c238b9174d"
      },
      "execution_count": null,
      "outputs": [
        {
          "output_type": "display_data",
          "data": {
            "text/plain": [
              "<Figure size 432x288 with 1 Axes>"
            ],
            "image/png": "[encoded data removed]"
          },
          "metadata": {
            "needs_background": "light"
          }
        }
      ]
    },
    {
      "cell_type": "markdown",
      "source": [
        "## Bed-файлы"
      ],
      "metadata": {
        "id": "J4PLteA6TA53"
      }
    },
    {
      "cell_type": "code",
      "source": [
        "def make_bed(data, fileName, genome_file, name):\n",
        "  \n",
        "  to_write = data.copy()\n",
        "  to_write.insert(0, 'chr', name)\n",
        "  to_write['name'] =to_write.chr.astype(str) +'_'+ to_write.Start.astype(str)\n",
        "  to_write[['chr','Start','End','name','ZH-Score']].to_csv(fileName, sep = '\\t', header=False,index=False)"
      ],
      "metadata": {
        "id": "uRKxg4v1TD-d"
      },
      "execution_count": null,
      "outputs": []
    },
    {
      "cell_type": "code",
      "source": [
        "make_bed(z_2, '/content/L298.bed','/content/GCF_011382985.1_ASM1138298v1_genomic.fna', 'L298')"
      ],
      "metadata": {
        "id": "azLmguu9TjlH"
      },
      "execution_count": null,
      "outputs": []
    },
    {
      "cell_type": "code",
      "source": [
        "!head /content/L298.bed"
      ],
      "metadata": {
        "colab": {
          "base_uri": "https://localhost:8080/"
        },
        "id": "hONIZ9kyULOL",
        "outputId": "0326ff6f-7392-4faf-9a57-7eb3eb247bde"
      },
      "execution_count": null,
      "outputs": [
        {
          "output_type": "stream",
          "name": "stdout",
          "text": [
            "L298\t1846\t1854\tL298_1846\t980.8116\n",
            "L298\t1847\t1855\tL298_1847\t13713.99\n",
            "L298\t1848\t1854\tL298_1848\t883.5764\n",
            "L298\t1849\t1855\tL298_1849\t883.5764\n",
            "L298\t3014\t3026\tL298_3014\t735.0619\n",
            "L298\t3020\t3026\tL298_3020\t883.5764\n",
            "L298\t3063\t3075\tL298_3063\t575.9058\n",
            "L298\t3217\t3229\tL298_3217\t596.6364\n",
            "L298\t3219\t3229\tL298_3219\t593.197\n",
            "L298\t3221\t3229\tL298_3221\t783.823\n"
          ]
        }
      ]
    },
    {
      "cell_type": "code",
      "source": [
        "make_bed(z_3, '/content/L638.bed','/content/GCF_014396385.1_ASM1439638v1_genomic.fna', 'L638')\n",
        "make_bed(z_4, '/content/L296.bed','/content/GCF_011382965.1_ASM1138296v1_genomic.fna', 'L296')\n",
        "make_bed(z_5, '/content/L823.bed','/content/GCF_004028235.1_ASM402823v1_genomic.fna', 'L823')\n",
        "make_bed(z_6, '/content/L863.bed','/content/GCF_004208635.1_ASM420863v1_genomic.fna', 'L863')"
      ],
      "metadata": {
        "id": "0yfg7EUMUF6G"
      },
      "execution_count": null,
      "outputs": []
    },
    {
      "cell_type": "code",
      "source": [
        "! sort -k1,1 -k2,2n L298.bed > L298.sorted.bed \n",
        "! sort -k1,1 -k2,2n L638.bed > L638.sorted.bed\n",
        "! sort -k1,1 -k2,2n L296.bed > L296.sorted.bed\n",
        "! sort -k1,1 -k2,2n L823.bed > L823.sorted.bed\n",
        "! sort -k1,1 -k2,2n L863.bed > L863.sorted.bed "
      ],
      "metadata": {
        "id": "j2vC8WCYB-bl"
      },
      "execution_count": null,
      "outputs": []
    },
    {
      "cell_type": "code",
      "source": [
        "!pip install -q condacolab"
      ],
      "metadata": {
        "id": "705b2W9RDSca"
      },
      "execution_count": null,
      "outputs": []
    },
    {
      "cell_type": "code",
      "source": [
        "import condacolab\n",
        "condacolab.install()"
      ],
      "metadata": {
        "colab": {
          "base_uri": "https://localhost:8080/"
        },
        "id": "bpQdsYFZDVe4",
        "outputId": "704a374d-280b-41bc-dac9-eab3e7c78bb8"
      },
      "execution_count": null,
      "outputs": [
        {
          "output_type": "stream",
          "name": "stdout",
          "text": [
            "⏬ Downloading https://github.com/jaimergp/miniforge/releases/latest/download/Mambaforge-colab-Linux-x86_64.sh...\n",
            "📦 Installing...\n",
            "📌 Adjusting configuration...\n",
            "🩹 Patching environment...\n",
            "⏲ Done in 0:00:47\n",
            "🔁 Restarting kernel...\n"
          ]
        }
      ]
    },
    {
      "cell_type": "code",
      "source": [
        "condacolab.check()"
      ],
      "metadata": {
        "colab": {
          "base_uri": "https://localhost:8080/",
          "height": 287
        },
        "id": "_pHnCBRuDeOm",
        "outputId": "6464afbe-31ec-4f39-d4ce-e7286776b1ed"
      },
      "execution_count": null,
      "outputs": [
        {
          "output_type": "error",
          "ename": "AssertionError",
          "evalue": "ignored",
          "traceback": [
            "\u001b[0;31m---------------------------------------------------------------------------\u001b[0m",
            "\u001b[0;31mAssertionError\u001b[0m                            Traceback (most recent call last)",
            "\u001b[0;32m<ipython-input-84-074627db1601>\u001b[0m in \u001b[0;36m<module>\u001b[0;34m()\u001b[0m\n\u001b[0;32m----> 1\u001b[0;31m \u001b[0mcondacolab\u001b[0m\u001b[0;34m.\u001b[0m\u001b[0mcheck\u001b[0m\u001b[0;34m(\u001b[0m\u001b[0;34m)\u001b[0m\u001b[0;34m\u001b[0m\u001b[0;34m\u001b[0m\u001b[0m\n\u001b[0m",
            "\u001b[0;32m/usr/local/lib/python3.7/dist-packages/condacolab.py\u001b[0m in \u001b[0;36mcheck\u001b[0;34m(prefix, verbose)\u001b[0m\n\u001b[1;32m    302\u001b[0m     assert (\n\u001b[1;32m    303\u001b[0m         \u001b[0;34mf\"{prefix}/lib\"\u001b[0m \u001b[0;32min\u001b[0m \u001b[0mos\u001b[0m\u001b[0;34m.\u001b[0m\u001b[0menviron\u001b[0m\u001b[0;34m[\u001b[0m\u001b[0;34m\"LD_LIBRARY_PATH\"\u001b[0m\u001b[0;34m]\u001b[0m\u001b[0;34m\u001b[0m\u001b[0;34m\u001b[0m\u001b[0m\n\u001b[0;32m--> 304\u001b[0;31m     ), f\"💥💔💥 LD_LIBRARY_PATH was not patched! Value: {os.environ['LD_LIBRARY_PATH']}\"\n\u001b[0m\u001b[1;32m    305\u001b[0m     \u001b[0;32mif\u001b[0m \u001b[0mverbose\u001b[0m\u001b[0;34m:\u001b[0m\u001b[0;34m\u001b[0m\u001b[0;34m\u001b[0m\u001b[0m\n\u001b[1;32m    306\u001b[0m         \u001b[0mprint\u001b[0m\u001b[0;34m(\u001b[0m\u001b[0;34m\"✨🍰✨ Everything looks OK!\"\u001b[0m\u001b[0;34m)\u001b[0m\u001b[0;34m\u001b[0m\u001b[0;34m\u001b[0m\u001b[0m\n",
            "\u001b[0;31mAssertionError\u001b[0m: 💥💔💥 LD_LIBRARY_PATH was not patched! Value: /usr/local/nvidia/lib:/usr/local/nvidia/lib64"
          ]
        }
      ]
    },
    {
      "cell_type": "code",
      "source": [
        "!conda install -c bioconda bedtools"
      ],
      "metadata": {
        "id": "mZHqSqm6De8O"
      },
      "execution_count": null,
      "outputs": []
    },
    {
      "cell_type": "code",
      "source": [
        "!bedtools merge -i L298.sorted.bed  -c 5 -o max > mL298.bed"
      ],
      "metadata": {
        "id": "1suvjyz1D13U"
      },
      "execution_count": null,
      "outputs": []
    },
    {
      "cell_type": "code",
      "source": [
        "!head mL298.bed"
      ],
      "metadata": {
        "id": "C7xU-uBmEIPr"
      },
      "execution_count": null,
      "outputs": []
    },
    {
      "cell_type": "code",
      "source": [
        "!bedtools merge -i L638.sorted.bed  -c 5 -o max > mL638.bed\n",
        "!bedtools merge -i L296.sorted.bed  -c 5 -o max > mL296.bed\n",
        "!bedtools merge -i L823.sorted.bed  -c 5 -o max > mL823.bed\n",
        "!bedtools merge -i L863.sorted.bed  -c 5 -o max > mL863.bed"
      ],
      "metadata": {
        "id": "qR-Nlm6nEMMY"
      },
      "execution_count": null,
      "outputs": []
    },
    {
      "cell_type": "markdown",
      "source": [
        "# Ассоциация"
      ],
      "metadata": {
        "id": "9x6YmgxoHBcU"
      }
    },
    {
      "cell_type": "markdown",
      "source": [
        "## Координаты TSS"
      ],
      "metadata": {
        "id": "pOgZQK9rKEN6"
      }
    },
    {
      "cell_type": "code",
      "source": [
        "L298_TSS = []\n",
        "with open('/content/GCF_011382985.1_ASM1138298v1_feature_table.txt', 'r') as inf:\n",
        "    for line in inf:\n",
        "        if ('gene' in line) and ('protein_coding' in line):\n",
        "            if line.strip().split('\\t')[9] == '+':\n",
        "                TSS = line.strip().split('\\t')[7]\n",
        "            elif line.strip().split('\\t')[9] == '-':\n",
        "                TSS = line.strip().split('\\t')[8]\n",
        "        elif ('CDS' in line) and ('with_protein' in line):\n",
        "            id = line.strip().split('\\t')[10]\n",
        "            start = int(TSS) - 100\n",
        "            end = int(TSS) + 100\n",
        "            L298_TSS.append([start, end, id])"
      ],
      "metadata": {
        "id": "NGMtxCgXI6TY"
      },
      "execution_count": null,
      "outputs": []
    },
    {
      "cell_type": "code",
      "source": [
        "L298_TSS"
      ],
      "metadata": {
        "id": "kI8HV5nZMrqs"
      },
      "execution_count": null,
      "outputs": []
    },
    {
      "cell_type": "code",
      "source": [
        "L638_TSS = []\n",
        "with open('/content/GCF_014396385.1_ASM1439638v1_feature_table.txt', 'r') as inf:\n",
        "    for line in inf:\n",
        "        if ('gene' in line) and ('protein_coding' in line):\n",
        "            if line.strip().split('\\t')[9] == '+':\n",
        "                TSS = line.strip().split('\\t')[7]\n",
        "            elif line.strip().split('\\t')[9] == '-':\n",
        "                TSS = line.strip().split('\\t')[8]\n",
        "        elif ('CDS' in line) and ('with_protein' in line):\n",
        "            id = line.strip().split('\\t')[10]\n",
        "            start = int(TSS) - 100\n",
        "            end = int(TSS) + 100\n",
        "            L638_TSS.append([start, end, id])\n",
        "\n",
        "L296_TSS = []\n",
        "with open('/content/GCF_011382965.1_ASM1138296v1_feature_table.txt', 'r') as inf:\n",
        "    for line in inf:\n",
        "        if ('gene' in line) and ('protein_coding' in line):\n",
        "            if line.strip().split('\\t')[9] == '+':\n",
        "                TSS = line.strip().split('\\t')[7]\n",
        "            elif line.strip().split('\\t')[9] == '-':\n",
        "                TSS = line.strip().split('\\t')[8]\n",
        "        elif ('CDS' in line) and ('with_protein' in line):\n",
        "            id = line.strip().split('\\t')[10]\n",
        "            start = int(TSS) - 100\n",
        "            end = int(TSS) + 100\n",
        "            L296_TSS.append([start, end, id])\n",
        "\n",
        "L823_TSS = []\n",
        "with open('/content/GCF_004028235.1_ASM402823v1_feature_table.txt', 'r') as inf:\n",
        "    for line in inf:\n",
        "        if ('gene' in line) and ('protein_coding' in line):\n",
        "            if line.strip().split('\\t')[9] == '+':\n",
        "                TSS = line.strip().split('\\t')[7]\n",
        "            elif line.strip().split('\\t')[9] == '-':\n",
        "                TSS = line.strip().split('\\t')[8]\n",
        "        elif ('CDS' in line) and ('with_protein' in line):\n",
        "            id = line.strip().split('\\t')[10]\n",
        "            start = int(TSS) - 100\n",
        "            end = int(TSS) + 100\n",
        "            L823_TSS.append([start, end, id])\n",
        "\n",
        "L863_TSS = []\n",
        "with open('/content/GCF_004208635.1_ASM420863v1_feature_table.txt', 'r') as inf:\n",
        "    for line in inf:\n",
        "        if ('gene' in line) and ('protein_coding' in line):\n",
        "            if line.strip().split('\\t')[9] == '+':\n",
        "                TSS = line.strip().split('\\t')[7]\n",
        "            elif line.strip().split('\\t')[9] == '-':\n",
        "                TSS = line.strip().split('\\t')[8]\n",
        "        elif ('CDS' in line) and ('with_protein' in line):\n",
        "            id = line.strip().split('\\t')[10]\n",
        "            start = int(TSS) - 100\n",
        "            end = int(TSS) + 100\n",
        "            L863_TSS.append([start, end, id])"
      ],
      "metadata": {
        "id": "WFHkXv9TMtNF"
      },
      "execution_count": null,
      "outputs": []
    },
    {
      "cell_type": "code",
      "source": [
        "import pandas as pd\n",
        "import numpy as np"
      ],
      "metadata": {
        "id": "QqnCSBBDSo_p"
      },
      "execution_count": null,
      "outputs": []
    },
    {
      "cell_type": "code",
      "source": [
        "def make_bed2(TSS, fileName, name):\n",
        "  \n",
        "  to_write = pd.DataFrame(columns=['Start','End'])\n",
        "  to_write['Start'] = np.array(TSS).T[0]\n",
        "  to_write['End'] = np.array(TSS).T[1]\n",
        "  to_write.insert(0, 'chr', name)\n",
        "  to_write['name'] =to_write.chr.astype(str) +'_'+ to_write.Start.astype(str)\n",
        "  to_write[['chr','Start','End','name']].to_csv(fileName, sep = '\\t', header=False,index=False)"
      ],
      "metadata": {
        "id": "f3n2DGSVQpLm"
      },
      "execution_count": null,
      "outputs": []
    },
    {
      "cell_type": "code",
      "source": [
        "make_bed2(L298_TSS, 'L298a.bed', 'L298')"
      ],
      "metadata": {
        "id": "EKE51FqZVR_6"
      },
      "execution_count": null,
      "outputs": []
    },
    {
      "cell_type": "code",
      "source": [
        "!head L298a.bed"
      ],
      "metadata": {
        "id": "aI3C7wRJVmdo"
      },
      "execution_count": null,
      "outputs": []
    },
    {
      "cell_type": "code",
      "source": [
        "make_bed2(L638_TSS, 'L638a.bed', 'L638')\n",
        "make_bed2(L296_TSS, 'L296a.bed', 'L296')\n",
        "make_bed2(L823_TSS, 'L823a.bed', 'L823')\n",
        "make_bed2(L863_TSS, 'L863a.bed', 'L863')"
      ],
      "metadata": {
        "id": "TaMPmI2VV4CO"
      },
      "execution_count": null,
      "outputs": []
    },
    {
      "cell_type": "markdown",
      "source": [
        "## Пересечение"
      ],
      "metadata": {
        "id": "qL48JCr_Xc28"
      }
    },
    {
      "cell_type": "code",
      "source": [
        "!intersectBed -a mL298.bed -b L298a.bed -wb  > iL298.bed"
      ],
      "metadata": {
        "id": "h9vcjI_xXgOi"
      },
      "execution_count": null,
      "outputs": []
    },
    {
      "cell_type": "code",
      "source": [
        "!head iL298.bed"
      ],
      "metadata": {
        "id": "AVwZmLF2YAbQ"
      },
      "execution_count": null,
      "outputs": []
    },
    {
      "cell_type": "code",
      "source": [
        "!intersectBed -a mL638.bed -b L638a.bed -wb  > iL638.bed\n",
        "!intersectBed -a mL296.bed -b L296a.bed -wb  > iL296.bed\n",
        "!intersectBed -a mL823.bed -b L823a.bed -wb  > iL823.bed\n",
        "!intersectBed -a mL863.bed -b L863a.bed -wb  > iL863.bed"
      ],
      "metadata": {
        "id": "2Md9R4daYCPe"
      },
      "execution_count": null,
      "outputs": []
    },
    {
      "cell_type": "markdown",
      "source": [
        "## Кластеризация"
      ],
      "metadata": {
        "id": "7Ia0hx_S3PnX"
      }
    },
    {
      "cell_type": "code",
      "source": [
        "!apt-get install proteinortho"
      ],
      "metadata": {
        "colab": {
          "base_uri": "https://localhost:8080/"
        },
        "id": "xfN6Krcf3UUt",
        "outputId": "bc6848df-688e-4396-dee6-693ed221b411"
      },
      "execution_count": null,
      "outputs": [
        {
          "output_type": "stream",
          "name": "stdout",
          "text": [
            "Reading package lists... Done\n",
            "Building dependency tree       \n",
            "Reading state information... Done\n",
            "The following package was automatically installed and is no longer required:\n",
            "  libnvidia-common-460\n",
            "Use 'apt autoremove' to remove it.\n",
            "The following additional packages will be installed:\n",
            "  ncbi-blast+ ncbi-data\n",
            "The following NEW packages will be installed:\n",
            "  ncbi-blast+ ncbi-data proteinortho\n",
            "0 upgraded, 3 newly installed, 0 to remove and 45 not upgraded.\n",
            "Need to get 13.2 MB of archives.\n",
            "After this operation, 67.0 MB of additional disk space will be used.\n",
            "Get:1 http://archive.ubuntu.com/ubuntu bionic/universe amd64 ncbi-data all 6.1.20170106-2 [3,645 kB]\n",
            "Get:2 http://archive.ubuntu.com/ubuntu bionic/universe amd64 ncbi-blast+ amd64 2.6.0-1 [9,446 kB]\n",
            "Get:3 http://archive.ubuntu.com/ubuntu bionic/universe amd64 proteinortho amd64 5.16+dfsg-1 [143 kB]\n",
            "Fetched 13.2 MB in 1s (10.7 MB/s)\n",
            "Selecting previously unselected package ncbi-data.\n",
            "(Reading database ... 155632 files and directories currently installed.)\n",
            "Preparing to unpack .../ncbi-data_6.1.20170106-2_all.deb ...\n",
            "Unpacking ncbi-data (6.1.20170106-2) ...\n",
            "Selecting previously unselected package ncbi-blast+.\n",
            "Preparing to unpack .../ncbi-blast+_2.6.0-1_amd64.deb ...\n",
            "Unpacking ncbi-blast+ (2.6.0-1) ...\n",
            "Selecting previously unselected package proteinortho.\n",
            "Preparing to unpack .../proteinortho_5.16+dfsg-1_amd64.deb ...\n",
            "Unpacking proteinortho (5.16+dfsg-1) ...\n",
            "Setting up ncbi-data (6.1.20170106-2) ...\n",
            "Setting up ncbi-blast+ (2.6.0-1) ...\n",
            "Setting up proteinortho (5.16+dfsg-1) ...\n",
            "Processing triggers for hicolor-icon-theme (0.17-2) ...\n",
            "Processing triggers for man-db (2.8.3-2ubuntu0.1) ...\n"
          ]
        }
      ]
    },
    {
      "cell_type": "code",
      "source": [
        "!proteinortho5"
      ],
      "metadata": {
        "id": "TgxulDeC3tdK"
      },
      "execution_count": null,
      "outputs": []
    },
    {
      "cell_type": "code",
      "source": [
        "!wget -O L298p.faa.gz 'ftp://ftp.ncbi.nlm.nih.gov/genomes/all/GCF/011/382/985/GCF_011382985.1_ASM1138298v1/GCF_011382985.1_ASM1138298v1_protein.faa.gz'\n",
        "!gzip -d L298p.faa.gz"
      ],
      "metadata": {
        "id": "t5B86mY63ya4"
      },
      "execution_count": null,
      "outputs": []
    },
    {
      "cell_type": "code",
      "source": [
        "!wget -O L638p.faa.gz 'ftp://ftp.ncbi.nlm.nih.gov/genomes/all/GCF/014/396/385/GCF_014396385.1_ASM1439638v1/GCF_014396385.1_ASM1439638v1_protein.faa.gz'\n",
        "!gzip -d L638p.faa.gz\n",
        "!wget -O L296p.faa.gz 'ftp://ftp.ncbi.nlm.nih.gov/genomes/all/GCF/011/382/965/GCF_011382965.1_ASM1138296v1/GCF_011382965.1_ASM1138296v1_protein.faa.gz'\n",
        "!gzip -d L296p.faa.gz\n",
        "!wget -O L823p.faa.gz 'ftp://ftp.ncbi.nlm.nih.gov/genomes/all/GCF/004/028/235/GCF_004028235.1_ASM402823v1/GCF_004028235.1_ASM402823v1_protein.faa.gz'\n",
        "!gzip -d L823p.faa.gz\n",
        "!wget -O L863p.faa.gz 'ftp://ftp.ncbi.nlm.nih.gov/genomes/all/GCF/004/208/635/GCF_004208635.1_ASM420863v1/GCF_004208635.1_ASM420863v1_protein.faa.gz'\n",
        "!gzip -d L863p.faa.gz"
      ],
      "metadata": {
        "id": "rtWRdUoY4LHE"
      },
      "execution_count": null,
      "outputs": []
    },
    {
      "cell_type": "code",
      "source": [
        "!proteinortho5  L298p.faa  L638p.faa  L296p.faa  L823p.faa  L863p.faa"
      ],
      "metadata": {
        "colab": {
          "base_uri": "https://localhost:8080/"
        },
        "id": "CX8Tz0Hs44Kx",
        "outputId": "3d794a8a-ffdb-4cf7-b221-a60e71950831"
      },
      "execution_count": null,
      "outputs": [
        {
          "output_type": "stream",
          "name": "stdout",
          "text": [
            "*****************************************************************\n",
            "Proteinortho with PoFF version 5.16 - An orthology detection tool\n",
            "*****************************************************************\n",
            "Detected 2 available CPU threads, Detected NCBI BLAST version 2.6.0+\n",
            "Checking input files\n",
            "Checking L298p.faa... ok\n",
            "Checking L638p.faa... ok\n",
            "Checking L296p.faa... ok\n",
            "Checking L823p.faa... ok\n",
            "Checking L863p.faa... ok\n",
            "\n",
            "**Step 1**\n",
            "Generating indices\n",
            "Building database for 'L863p.faa'\t(3020 sequences)\n",
            "Building database for 'L823p.faa'\t(2801 sequences)\n",
            "Building database for 'L298p.faa'\t(2629 sequences)\n",
            "Building database for 'L296p.faa'\t(2451 sequences)\n",
            "Building database for 'L638p.faa'\t(2222 sequences)\n",
            "\n",
            "**Step 2**\n",
            "Running blast analysis: 100% (10/10)\n",
            "[OUTPUT] -> written to myproject.blast-graph\n",
            "\n",
            "**Step 3**\n",
            "Clustering by similarity (Proteinortho mode)\n",
            "Reading myproject.blast-graph\n",
            "5 species\n",
            "9995 paired proteins\n",
            "15114 bidirectional edges\n",
            "Done                       \n",
            "[OUTPUT] -> written to myproject.proteinortho\n",
            "Writing graph...\n",
            "Cleaning edge list...\n",
            "Removed 253 / 15114 edges\n",
            "Done.\n",
            "[OUTPUT] -> written to myproject.proteinortho-graph\n",
            "\n",
            "All finished.\n"
          ]
        }
      ]
    },
    {
      "cell_type": "code",
      "source": [
        "!head myproject.proteinortho"
      ],
      "metadata": {
        "colab": {
          "base_uri": "https://localhost:8080/"
        },
        "id": "MxwjcKzlchtp",
        "outputId": "49513228-d768-4516-f08e-f0bc32b776cc"
      },
      "execution_count": 2,
      "outputs": [
        {
          "output_type": "stream",
          "name": "stdout",
          "text": [
            "# Species\tGenes\tAlg.-Conn.\tL296p.faa\tL298p.faa\tL638p.faa\tL823p.faa\tL863p.faa\n",
            "5\t5\t1\tWP_005504750.1\tWP_005504750.1\tWP_005504750.1\tWP_005504750.1\tWP_005504750.1\n",
            "5\t5\t1\tWP_166322780.1\tWP_009199219.1\tWP_084516090.1\tWP_017885303.1\tWP_017885303.1\n",
            "5\t5\t1\tWP_010155609.1\tWP_010155609.1\tWP_187554654.1\tWP_010155609.1\tWP_010155609.1\n",
            "5\t5\t1\tWP_166322740.1\tWP_017793370.1\tWP_187555991.1\tWP_017885323.1\tWP_105804995.1\n",
            "5\t5\t1\tWP_166323770.1\tWP_017794148.1\tWP_099725062.1\tWP_017882567.1\tWP_017794148.1\n",
            "5\t5\t1\tWP_166323565.1\tWP_017884662.1\tWP_187555696.1\tWP_017884662.1\tWP_053384078.1\n",
            "5\t5\t1\tWP_010156393.1\tWP_025133701.1\tWP_025133701.1\tWP_010156393.1\tWP_010156393.1\n",
            "5\t5\t1\tWP_046454849.1\tWP_046454849.1\tWP_187554507.1\tWP_017884003.1\tWP_017884003.1\n",
            "5\t5\t1\tWP_166322784.1\tWP_053352811.1\tWP_187555973.1\tWP_128386442.1\tWP_017885301.1\n"
          ]
        }
      ]
    },
    {
      "cell_type": "code",
      "source": [
        "!wc -l < /content/myproject.proteinortho"
      ],
      "metadata": {
        "colab": {
          "base_uri": "https://localhost:8080/"
        },
        "id": "zfMAwK2ldMbw",
        "outputId": "2cc4561a-6201-4644-a453-90c70d4972ea"
      },
      "execution_count": 5,
      "outputs": [
        {
          "output_type": "stream",
          "name": "stdout",
          "text": [
            "2641\n"
          ]
        }
      ]
    },
    {
      "cell_type": "markdown",
      "source": [
        "Всего кластеров 2641 - 1 = 2640"
      ],
      "metadata": {
        "id": "FVVqxWfrfCHU"
      }
    },
    {
      "cell_type": "code",
      "source": [
        "import matplotlib.pyplot as plt\n",
        "import pandas as pd\n",
        "import numpy as np"
      ],
      "metadata": {
        "id": "42fnkrd8fOPw"
      },
      "execution_count": 10,
      "outputs": []
    },
    {
      "cell_type": "code",
      "source": [
        "proteins = pd.read_csv('myproject.proteinortho', sep='\\t',)\n",
        "count = np.zeros(5)\n",
        "for i in range(1,6):\n",
        "  count[i-1] += len(proteins[proteins['# Species']==i])\n",
        "\n",
        "plt.title('Количество белков в кластерах')\n",
        "plt.bar(range(1,6), count, color = 'red')\n",
        "plt.show()"
      ],
      "metadata": {
        "colab": {
          "base_uri": "https://localhost:8080/",
          "height": 281
        },
        "id": "BxcXN6cQeUz3",
        "outputId": "7f940c56-1a65-44f0-e082-7fbef00401e0"
      },
      "execution_count": 16,
      "outputs": [
        {
          "output_type": "display_data",
          "data": {
            "text/plain": [
              "<Figure size 432x288 with 1 Axes>"
            ],
            "image/png": "[encoded data removed]"
          },
          "metadata": {
            "needs_background": "light"
          }
        }
      ]
    },
    {
      "cell_type": "code",
      "source": [
        ""
      ],
      "metadata": {
        "id": "EWLRoKLEfq_Z"
      },
      "execution_count": null,
      "outputs": []
    }
  ]
}